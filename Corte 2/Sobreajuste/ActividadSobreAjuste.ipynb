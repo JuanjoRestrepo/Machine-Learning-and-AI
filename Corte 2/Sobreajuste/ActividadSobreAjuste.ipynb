{
  "nbformat": 4,
  "nbformat_minor": 0,
  "metadata": {
    "colab": {
      "provenance": []
    },
    "kernelspec": {
      "name": "python3",
      "display_name": "Python 3"
    },
    "language_info": {
      "name": "python"
    },
    "accelerator": "GPU",
    "gpuClass": "standard"
  },
  "cells": [
    {
      "cell_type": "markdown",
      "source": [
        "# Actividad para minimizar el impacto del sobre-ajuste.\n",
        "\n",
        "# Hecho por: Isabella Ceballos y Juan José Restrepo.\n",
        "\n",
        "## Etapa 1: Definición de los datos.\n",
        "\n",
        "Antes de comenzar definimos la base de datos de interés. Usaremos la base de datos IMBD que consiste en reseñas hechas a 25000 películas. La tarea que configura esta base de datos consiste en predecir si el comentario es positivo o negativo. ([Ver enlace](https://keras.io/api/datasets/imdb/))"
      ],
      "metadata": {
        "id": "ZeKBz_AeAiVv"
      }
    },
    {
      "cell_type": "markdown",
      "source": [
        "Se cargan las librerías necesarias"
      ],
      "metadata": {
        "id": "B7auJzvsB7MH"
      }
    },
    {
      "cell_type": "code",
      "source": [
        "from keras.datasets import imdb\n",
        "import numpy as np\n",
        "from keras import models\n",
        "from keras import layers\n",
        "from keras import regularizers\n",
        "import matplotlib.pyplot as plt"
      ],
      "metadata": {
        "id": "-VmD4QoDB_Sf"
      },
      "execution_count": null,
      "outputs": []
    },
    {
      "cell_type": "markdown",
      "source": [
        "Se carga la base de datos"
      ],
      "metadata": {
        "id": "6GtMxhTMCv2D"
      }
    },
    {
      "cell_type": "code",
      "execution_count": null,
      "metadata": {
        "id": "TiuLtdgE5bHs"
      },
      "outputs": [],
      "source": [
        "(train_data, train_labels), (test_data, test_labels) = imdb.load_data(\n",
        "    num_words=10000)"
      ]
    },
    {
      "cell_type": "markdown",
      "source": [
        "Se definen funciones para la visualización de la función de costo"
      ],
      "metadata": {
        "id": "CoqU7PDhC8vp"
      }
    },
    {
      "cell_type": "code",
      "source": [
        "def evaluate(model, history):\n",
        "    # Se evalúa el accuracy del modelo tanto en el conjunto de entrenamiento como \n",
        "    # en el de prueba.\n",
        "    _, train_accuracy = model.evaluate(x_train, y_train)\n",
        "    _, test_accuracy = model.evaluate(x_test, y_test)\n",
        "\n",
        "    print(f\"Trainining accuracy: {train_accuracy:.2f}\")\n",
        "    print(f\"Testing accuracy: {test_accuracy:.2f}\")\n",
        "\n",
        "    # Se grafica la función de costo para los conjuntos de entrenamiento y \n",
        "    # prueba.\n",
        "    plt.figure(figsize=(2, 1), dpi=160)\n",
        "\n",
        "    plt.plot(history.history[\"loss\"], label=\"train\")\n",
        "    plt.plot(history.history[\"val_loss\"], label=\"test\")\n",
        "    plt.legend()\n",
        "    plt.show()\n",
        "\n",
        "def vectorize_sequences(sequences, dimension=10000):\n",
        "    results = np.zeros((len(sequences), dimension))\n",
        "    for i, sequence in enumerate(sequences):\n",
        "        results[i, sequence] = 1.\n",
        "    return results"
      ],
      "metadata": {
        "id": "0OItQv8mDDj_"
      },
      "execution_count": null,
      "outputs": []
    },
    {
      "cell_type": "code",
      "source": [
        "# Procesamiento de los datos.\n",
        "x_train = vectorize_sequences(train_data)\n",
        "x_test = vectorize_sequences(test_data)"
      ],
      "metadata": {
        "id": "K0Cjgeul5v-7"
      },
      "execution_count": null,
      "outputs": []
    },
    {
      "cell_type": "code",
      "source": [
        "y_train = np.asarray(train_labels).astype('float32')\n",
        "y_test = np.asarray(test_labels).astype('float32')"
      ],
      "metadata": {
        "id": "QP_X-UNw6Up9"
      },
      "execution_count": null,
      "outputs": []
    },
    {
      "cell_type": "code",
      "source": [
        "# Se definen los conjuntos de entrenamiento y prueba\n",
        "x_val = x_train[:10000]\n",
        "partial_x_train = x_train[10000:]\n",
        "y_val = y_train[:10000]\n",
        "partial_y_train = y_train[10000:]"
      ],
      "metadata": {
        "id": "3PR_gwJpDRHR"
      },
      "execution_count": null,
      "outputs": []
    },
    {
      "cell_type": "code",
      "source": [
        "# Se define la red neuronal.\n",
        "model = models.Sequential([\n",
        "  layers.Dense(16, activation='relu', input_shape=(10000,)),\n",
        "  layers.Dense(16, activation='relu'),\n",
        "  layers.Dense(1, activation='sigmoid')\n",
        "  ])"
      ],
      "metadata": {
        "id": "YzBNSurn6YlW"
      },
      "execution_count": null,
      "outputs": []
    },
    {
      "cell_type": "code",
      "source": [
        "model.compile(optimizer='rmsprop',\n",
        "              loss='binary_crossentropy',\n",
        "              metrics=['accuracy'])"
      ],
      "metadata": {
        "id": "Tx91wJlV6c4u"
      },
      "execution_count": null,
      "outputs": []
    },
    {
      "cell_type": "code",
      "source": [
        "history = model.fit(partial_x_train,\n",
        "                    partial_y_train,\n",
        "                    epochs=50,\n",
        "                    batch_size=512, #64, #32,\n",
        "                    validation_data=(x_val, y_val))"
      ],
      "metadata": {
        "colab": {
          "base_uri": "https://localhost:8080/"
        },
        "id": "PzktYPMC6yuZ",
        "outputId": "44684dbf-9598-47b1-bd82-6a55ae06bcac"
      },
      "execution_count": null,
      "outputs": [
        {
          "output_type": "stream",
          "name": "stdout",
          "text": [
            "Epoch 1/50\n",
            "30/30 [==============================] - 4s 64ms/step - loss: 0.5290 - accuracy: 0.7645 - val_loss: 0.3929 - val_accuracy: 0.8639\n",
            "Epoch 2/50\n",
            "30/30 [==============================] - 1s 23ms/step - loss: 0.3168 - accuracy: 0.8953 - val_loss: 0.3110 - val_accuracy: 0.8814\n",
            "Epoch 3/50\n",
            "30/30 [==============================] - 1s 25ms/step - loss: 0.2316 - accuracy: 0.9217 - val_loss: 0.2829 - val_accuracy: 0.8879\n",
            "Epoch 4/50\n",
            "30/30 [==============================] - 1s 23ms/step - loss: 0.1887 - accuracy: 0.9377 - val_loss: 0.3104 - val_accuracy: 0.8742\n",
            "Epoch 5/50\n",
            "30/30 [==============================] - 1s 25ms/step - loss: 0.1590 - accuracy: 0.9470 - val_loss: 0.2791 - val_accuracy: 0.8864\n",
            "Epoch 6/50\n",
            "30/30 [==============================] - 1s 22ms/step - loss: 0.1311 - accuracy: 0.9600 - val_loss: 0.3017 - val_accuracy: 0.8829\n",
            "Epoch 7/50\n",
            "30/30 [==============================] - 1s 22ms/step - loss: 0.1109 - accuracy: 0.9646 - val_loss: 0.3409 - val_accuracy: 0.8726\n",
            "Epoch 8/50\n",
            "30/30 [==============================] - 1s 25ms/step - loss: 0.0962 - accuracy: 0.9713 - val_loss: 0.3187 - val_accuracy: 0.8834\n",
            "Epoch 9/50\n",
            "30/30 [==============================] - 1s 26ms/step - loss: 0.0858 - accuracy: 0.9729 - val_loss: 0.3295 - val_accuracy: 0.8810\n",
            "Epoch 10/50\n",
            "30/30 [==============================] - 1s 25ms/step - loss: 0.0719 - accuracy: 0.9795 - val_loss: 0.3536 - val_accuracy: 0.8777\n",
            "Epoch 11/50\n",
            "30/30 [==============================] - 1s 25ms/step - loss: 0.0560 - accuracy: 0.9861 - val_loss: 0.3731 - val_accuracy: 0.8773\n",
            "Epoch 12/50\n",
            "30/30 [==============================] - 1s 25ms/step - loss: 0.0494 - accuracy: 0.9883 - val_loss: 0.3904 - val_accuracy: 0.8781\n",
            "Epoch 13/50\n",
            "30/30 [==============================] - 1s 25ms/step - loss: 0.0413 - accuracy: 0.9912 - val_loss: 0.4226 - val_accuracy: 0.8703\n",
            "Epoch 14/50\n",
            "30/30 [==============================] - 1s 25ms/step - loss: 0.0368 - accuracy: 0.9920 - val_loss: 0.4574 - val_accuracy: 0.8685\n",
            "Epoch 15/50\n",
            "30/30 [==============================] - 1s 29ms/step - loss: 0.0330 - accuracy: 0.9934 - val_loss: 0.4604 - val_accuracy: 0.8738\n",
            "Epoch 16/50\n",
            "30/30 [==============================] - 1s 27ms/step - loss: 0.0251 - accuracy: 0.9951 - val_loss: 0.4780 - val_accuracy: 0.8738\n",
            "Epoch 17/50\n",
            "30/30 [==============================] - 1s 23ms/step - loss: 0.0228 - accuracy: 0.9957 - val_loss: 0.5012 - val_accuracy: 0.8735\n",
            "Epoch 18/50\n",
            "30/30 [==============================] - 1s 23ms/step - loss: 0.0139 - accuracy: 0.9991 - val_loss: 0.5980 - val_accuracy: 0.8582\n",
            "Epoch 19/50\n",
            "30/30 [==============================] - 1s 25ms/step - loss: 0.0155 - accuracy: 0.9987 - val_loss: 0.6020 - val_accuracy: 0.8635\n",
            "Epoch 20/50\n",
            "30/30 [==============================] - 1s 23ms/step - loss: 0.0172 - accuracy: 0.9967 - val_loss: 0.5719 - val_accuracy: 0.8697\n",
            "Epoch 21/50\n",
            "30/30 [==============================] - 1s 25ms/step - loss: 0.0144 - accuracy: 0.9965 - val_loss: 0.6066 - val_accuracy: 0.8663\n",
            "Epoch 22/50\n",
            "30/30 [==============================] - 1s 23ms/step - loss: 0.0066 - accuracy: 0.9998 - val_loss: 0.6122 - val_accuracy: 0.8667\n",
            "Epoch 23/50\n",
            "30/30 [==============================] - 1s 23ms/step - loss: 0.0115 - accuracy: 0.9975 - val_loss: 0.6245 - val_accuracy: 0.8683\n",
            "Epoch 24/50\n",
            "30/30 [==============================] - 1s 24ms/step - loss: 0.0047 - accuracy: 0.9999 - val_loss: 0.6544 - val_accuracy: 0.8673\n",
            "Epoch 25/50\n",
            "30/30 [==============================] - 1s 24ms/step - loss: 0.0114 - accuracy: 0.9975 - val_loss: 0.6631 - val_accuracy: 0.8685\n",
            "Epoch 26/50\n",
            "30/30 [==============================] - 1s 25ms/step - loss: 0.0045 - accuracy: 0.9997 - val_loss: 0.9271 - val_accuracy: 0.8424\n",
            "Epoch 27/50\n",
            "30/30 [==============================] - 1s 25ms/step - loss: 0.0052 - accuracy: 0.9991 - val_loss: 0.7019 - val_accuracy: 0.8668\n",
            "Epoch 28/50\n",
            "30/30 [==============================] - 1s 23ms/step - loss: 0.0067 - accuracy: 0.9985 - val_loss: 0.7164 - val_accuracy: 0.8676\n",
            "Epoch 29/50\n",
            "30/30 [==============================] - 1s 23ms/step - loss: 0.0024 - accuracy: 0.9999 - val_loss: 0.7363 - val_accuracy: 0.8682\n",
            "Epoch 30/50\n",
            "30/30 [==============================] - 1s 22ms/step - loss: 0.0066 - accuracy: 0.9984 - val_loss: 0.7548 - val_accuracy: 0.8680\n",
            "Epoch 31/50\n",
            "30/30 [==============================] - 1s 30ms/step - loss: 0.0018 - accuracy: 0.9999 - val_loss: 0.7658 - val_accuracy: 0.8678\n",
            "Epoch 32/50\n",
            "30/30 [==============================] - 1s 28ms/step - loss: 0.0063 - accuracy: 0.9976 - val_loss: 0.7858 - val_accuracy: 0.8679\n",
            "Epoch 33/50\n",
            "30/30 [==============================] - 1s 26ms/step - loss: 0.0014 - accuracy: 0.9999 - val_loss: 0.7997 - val_accuracy: 0.8677\n",
            "Epoch 34/50\n",
            "30/30 [==============================] - 1s 24ms/step - loss: 0.0041 - accuracy: 0.9989 - val_loss: 0.8267 - val_accuracy: 0.8657\n",
            "Epoch 35/50\n",
            "30/30 [==============================] - 1s 25ms/step - loss: 0.0012 - accuracy: 0.9999 - val_loss: 0.8363 - val_accuracy: 0.8689\n",
            "Epoch 36/50\n",
            "30/30 [==============================] - 1s 25ms/step - loss: 9.9235e-04 - accuracy: 1.0000 - val_loss: 0.8458 - val_accuracy: 0.8691\n",
            "Epoch 37/50\n",
            "30/30 [==============================] - 1s 25ms/step - loss: 0.0035 - accuracy: 0.9991 - val_loss: 0.8631 - val_accuracy: 0.8686\n",
            "Epoch 38/50\n",
            "30/30 [==============================] - 1s 25ms/step - loss: 8.1237e-04 - accuracy: 1.0000 - val_loss: 0.8769 - val_accuracy: 0.8685\n",
            "Epoch 39/50\n",
            "30/30 [==============================] - 1s 26ms/step - loss: 0.0050 - accuracy: 0.9986 - val_loss: 0.8859 - val_accuracy: 0.8685\n",
            "Epoch 40/50\n",
            "30/30 [==============================] - 1s 24ms/step - loss: 7.1585e-04 - accuracy: 1.0000 - val_loss: 0.8911 - val_accuracy: 0.8689\n",
            "Epoch 41/50\n",
            "30/30 [==============================] - 1s 25ms/step - loss: 6.2133e-04 - accuracy: 1.0000 - val_loss: 0.9144 - val_accuracy: 0.8686\n",
            "Epoch 42/50\n",
            "30/30 [==============================] - 1s 25ms/step - loss: 0.0038 - accuracy: 0.9987 - val_loss: 0.9256 - val_accuracy: 0.8676\n",
            "Epoch 43/50\n",
            "30/30 [==============================] - 1s 23ms/step - loss: 5.2474e-04 - accuracy: 1.0000 - val_loss: 0.9425 - val_accuracy: 0.8690\n",
            "Epoch 44/50\n",
            "30/30 [==============================] - 1s 25ms/step - loss: 4.7581e-04 - accuracy: 1.0000 - val_loss: 0.9641 - val_accuracy: 0.8679\n",
            "Epoch 45/50\n",
            "30/30 [==============================] - 1s 23ms/step - loss: 0.0069 - accuracy: 0.9973 - val_loss: 0.9925 - val_accuracy: 0.8678\n",
            "Epoch 46/50\n",
            "30/30 [==============================] - 1s 37ms/step - loss: 3.9104e-04 - accuracy: 1.0000 - val_loss: 0.9837 - val_accuracy: 0.8671\n",
            "Epoch 47/50\n",
            "30/30 [==============================] - 1s 29ms/step - loss: 3.4927e-04 - accuracy: 1.0000 - val_loss: 0.9890 - val_accuracy: 0.8669\n",
            "Epoch 48/50\n",
            "30/30 [==============================] - 1s 23ms/step - loss: 3.1969e-04 - accuracy: 1.0000 - val_loss: 1.0221 - val_accuracy: 0.8643\n",
            "Epoch 49/50\n",
            "30/30 [==============================] - 1s 23ms/step - loss: 3.0366e-04 - accuracy: 1.0000 - val_loss: 1.0420 - val_accuracy: 0.8674\n",
            "Epoch 50/50\n",
            "30/30 [==============================] - 1s 25ms/step - loss: 2.3503e-04 - accuracy: 1.0000 - val_loss: 1.0586 - val_accuracy: 0.8671\n"
          ]
        }
      ]
    },
    {
      "cell_type": "markdown",
      "source": [
        "El modelo que entrenemos presenta sobre ajuste. Así, debemos construir una bitácora donde reportemos los siguientes análisis.  \n",
        " \n",
        "Indicar los elementos que tuvimos en cuenta para verificar que el modelo inicial se encuentra en sobreajuste. \n",
        "Modificar el modelo inicial con el fin de minimizar el impacto del sobreajuste y reportar los resultados obtenidos en términos de la función de pérdida. En particular debemos experimentar las siguientes variaciones: \n",
        "* Modelo inicial sin ninguna * modificación. \n",
        "* Modelo inicial añadiendo * regularización L2. \n",
        "* Modelo inicial añadiendo dropout. \n",
        "* Modelo que combine ambas estrategias de regularización. "
      ],
      "metadata": {
        "id": "QYJZQT-NzMu8"
      }
    },
    {
      "cell_type": "markdown",
      "source": [
        "# Modelo con Regularización L1 (Lasso)"
      ],
      "metadata": {
        "id": "BA4iPnFGfo4R"
      }
    },
    {
      "cell_type": "code",
      "source": [
        "l1 = models.Sequential([\n",
        "    layers.Dense(16,activation='relu', input_shape=(10000,),kernel_regularizer=regularizers.L1(l1=0.01)),\n",
        "    layers.Dense(16, activation='relu',kernel_regularizer=regularizers.L1(l1=0.01)),\n",
        "    layers.Dense(1, activation='sigmoid')\n",
        "  ])"
      ],
      "metadata": {
        "id": "5z96a11YfuaN"
      },
      "execution_count": null,
      "outputs": []
    },
    {
      "cell_type": "code",
      "source": [
        "l1.compile(optimizer='rmsprop',\n",
        "              loss='binary_crossentropy',\n",
        "              metrics=['accuracy'])"
      ],
      "metadata": {
        "id": "-o4_ec8VWMNF"
      },
      "execution_count": null,
      "outputs": []
    },
    {
      "cell_type": "code",
      "source": [
        "history_l1 = l1.fit(partial_x_train,\n",
        "                    partial_y_train,\n",
        "                    epochs=50,\n",
        "                    batch_size=512, #64, 32,\n",
        "                    validation_data=(x_val, y_val))"
      ],
      "metadata": {
        "id": "hyGAMsyfWWeT",
        "colab": {
          "base_uri": "https://localhost:8080/"
        },
        "outputId": "d54b4944-6e6e-4cb2-a920-a1c5f0ea313b"
      },
      "execution_count": null,
      "outputs": [
        {
          "output_type": "stream",
          "name": "stdout",
          "text": [
            "Epoch 1/50\n",
            "30/30 [==============================] - 3s 56ms/step - loss: 4.9336 - accuracy: 0.6147 - val_loss: 1.9679 - val_accuracy: 0.5516\n",
            "Epoch 2/50\n",
            "30/30 [==============================] - 1s 25ms/step - loss: 1.9367 - accuracy: 0.6655 - val_loss: 1.8858 - val_accuracy: 0.5634\n",
            "Epoch 3/50\n",
            "30/30 [==============================] - 1s 23ms/step - loss: 1.8612 - accuracy: 0.7012 - val_loss: 1.8127 - val_accuracy: 0.7015\n",
            "Epoch 4/50\n",
            "30/30 [==============================] - 1s 23ms/step - loss: 1.7847 - accuracy: 0.7347 - val_loss: 1.7406 - val_accuracy: 0.6822\n",
            "Epoch 5/50\n",
            "30/30 [==============================] - 1s 26ms/step - loss: 1.7115 - accuracy: 0.7496 - val_loss: 1.6707 - val_accuracy: 0.7795\n",
            "Epoch 6/50\n",
            "30/30 [==============================] - 1s 31ms/step - loss: 1.6485 - accuracy: 0.7675 - val_loss: 1.6116 - val_accuracy: 0.7850\n",
            "Epoch 7/50\n",
            "30/30 [==============================] - 1s 28ms/step - loss: 1.5915 - accuracy: 0.7773 - val_loss: 1.5686 - val_accuracy: 0.7748\n",
            "Epoch 8/50\n",
            "30/30 [==============================] - 1s 24ms/step - loss: 1.5402 - accuracy: 0.7891 - val_loss: 1.5297 - val_accuracy: 0.7699\n",
            "Epoch 9/50\n",
            "30/30 [==============================] - 1s 26ms/step - loss: 1.4952 - accuracy: 0.7955 - val_loss: 1.4734 - val_accuracy: 0.7868\n",
            "Epoch 10/50\n",
            "30/30 [==============================] - 1s 25ms/step - loss: 1.4571 - accuracy: 0.7987 - val_loss: 1.4397 - val_accuracy: 0.8044\n",
            "Epoch 11/50\n",
            "30/30 [==============================] - 1s 24ms/step - loss: 1.4278 - accuracy: 0.8027 - val_loss: 1.4163 - val_accuracy: 0.8032\n",
            "Epoch 12/50\n",
            "30/30 [==============================] - 1s 25ms/step - loss: 1.4028 - accuracy: 0.8112 - val_loss: 1.4040 - val_accuracy: 0.8040\n",
            "Epoch 13/50\n",
            "30/30 [==============================] - 1s 23ms/step - loss: 1.3861 - accuracy: 0.8110 - val_loss: 1.3840 - val_accuracy: 0.8072\n",
            "Epoch 14/50\n",
            "30/30 [==============================] - 1s 23ms/step - loss: 1.3730 - accuracy: 0.8164 - val_loss: 1.3633 - val_accuracy: 0.8189\n",
            "Epoch 15/50\n",
            "30/30 [==============================] - 1s 24ms/step - loss: 1.3651 - accuracy: 0.8188 - val_loss: 1.3599 - val_accuracy: 0.8207\n",
            "Epoch 16/50\n",
            "30/30 [==============================] - 1s 39ms/step - loss: 1.3591 - accuracy: 0.8223 - val_loss: 1.3562 - val_accuracy: 0.8248\n",
            "Epoch 17/50\n",
            "30/30 [==============================] - 1s 26ms/step - loss: 1.3532 - accuracy: 0.8263 - val_loss: 1.3480 - val_accuracy: 0.8278\n",
            "Epoch 18/50\n",
            "30/30 [==============================] - 1s 25ms/step - loss: 1.3472 - accuracy: 0.8287 - val_loss: 1.3622 - val_accuracy: 0.8191\n",
            "Epoch 19/50\n",
            "30/30 [==============================] - 1s 25ms/step - loss: 1.3424 - accuracy: 0.8330 - val_loss: 1.3426 - val_accuracy: 0.8292\n",
            "Epoch 20/50\n",
            "30/30 [==============================] - 1s 28ms/step - loss: 1.3412 - accuracy: 0.8317 - val_loss: 1.3436 - val_accuracy: 0.8333\n",
            "Epoch 21/50\n",
            "30/30 [==============================] - 1s 30ms/step - loss: 1.3369 - accuracy: 0.8361 - val_loss: 1.3374 - val_accuracy: 0.8344\n",
            "Epoch 22/50\n",
            "30/30 [==============================] - 1s 23ms/step - loss: 1.3334 - accuracy: 0.8353 - val_loss: 1.3421 - val_accuracy: 0.8308\n",
            "Epoch 23/50\n",
            "30/30 [==============================] - 1s 25ms/step - loss: 1.3322 - accuracy: 0.8382 - val_loss: 1.3292 - val_accuracy: 0.8399\n",
            "Epoch 24/50\n",
            "30/30 [==============================] - 1s 23ms/step - loss: 1.3268 - accuracy: 0.8395 - val_loss: 1.3326 - val_accuracy: 0.8359\n",
            "Epoch 25/50\n",
            "30/30 [==============================] - 1s 25ms/step - loss: 1.3233 - accuracy: 0.8421 - val_loss: 1.3325 - val_accuracy: 0.8341\n",
            "Epoch 26/50\n",
            "30/30 [==============================] - 1s 23ms/step - loss: 1.3240 - accuracy: 0.8419 - val_loss: 1.3204 - val_accuracy: 0.8428\n",
            "Epoch 27/50\n",
            "30/30 [==============================] - 1s 23ms/step - loss: 1.3205 - accuracy: 0.8446 - val_loss: 1.3465 - val_accuracy: 0.8267\n",
            "Epoch 28/50\n",
            "30/30 [==============================] - 1s 25ms/step - loss: 1.3168 - accuracy: 0.8473 - val_loss: 1.3564 - val_accuracy: 0.8195\n",
            "Epoch 29/50\n",
            "30/30 [==============================] - 1s 24ms/step - loss: 1.3160 - accuracy: 0.8461 - val_loss: 1.3123 - val_accuracy: 0.8464\n",
            "Epoch 30/50\n",
            "30/30 [==============================] - 1s 25ms/step - loss: 1.3132 - accuracy: 0.8473 - val_loss: 1.3133 - val_accuracy: 0.8444\n",
            "Epoch 31/50\n",
            "30/30 [==============================] - 1s 25ms/step - loss: 1.3101 - accuracy: 0.8505 - val_loss: 1.3322 - val_accuracy: 0.8387\n",
            "Epoch 32/50\n",
            "30/30 [==============================] - 1s 26ms/step - loss: 1.3117 - accuracy: 0.8479 - val_loss: 1.3211 - val_accuracy: 0.8396\n",
            "Epoch 33/50\n",
            "30/30 [==============================] - 1s 23ms/step - loss: 1.3055 - accuracy: 0.8518 - val_loss: 1.3194 - val_accuracy: 0.8445\n",
            "Epoch 34/50\n",
            "30/30 [==============================] - 1s 23ms/step - loss: 1.3076 - accuracy: 0.8507 - val_loss: 1.3175 - val_accuracy: 0.8472\n",
            "Epoch 35/50\n",
            "30/30 [==============================] - 1s 24ms/step - loss: 1.3047 - accuracy: 0.8513 - val_loss: 1.3121 - val_accuracy: 0.8502\n",
            "Epoch 36/50\n",
            "30/30 [==============================] - 1s 30ms/step - loss: 1.3043 - accuracy: 0.8529 - val_loss: 1.3043 - val_accuracy: 0.8516\n",
            "Epoch 37/50\n",
            "30/30 [==============================] - 1s 29ms/step - loss: 1.3025 - accuracy: 0.8519 - val_loss: 1.3085 - val_accuracy: 0.8505\n",
            "Epoch 38/50\n",
            "30/30 [==============================] - 1s 23ms/step - loss: 1.3038 - accuracy: 0.8494 - val_loss: 1.3393 - val_accuracy: 0.8287\n",
            "Epoch 39/50\n",
            "30/30 [==============================] - 1s 23ms/step - loss: 1.3001 - accuracy: 0.8524 - val_loss: 1.3333 - val_accuracy: 0.8273\n",
            "Epoch 40/50\n",
            "30/30 [==============================] - 1s 24ms/step - loss: 1.2991 - accuracy: 0.8515 - val_loss: 1.3261 - val_accuracy: 0.8337\n",
            "Epoch 41/50\n",
            "30/30 [==============================] - 1s 23ms/step - loss: 1.2970 - accuracy: 0.8549 - val_loss: 1.3383 - val_accuracy: 0.8266\n",
            "Epoch 42/50\n",
            "30/30 [==============================] - 1s 25ms/step - loss: 1.2925 - accuracy: 0.8563 - val_loss: 1.3233 - val_accuracy: 0.8368\n",
            "Epoch 43/50\n",
            "30/30 [==============================] - 1s 23ms/step - loss: 1.2963 - accuracy: 0.8559 - val_loss: 1.3077 - val_accuracy: 0.8484\n",
            "Epoch 44/50\n",
            "30/30 [==============================] - 1s 25ms/step - loss: 1.2956 - accuracy: 0.8539 - val_loss: 1.2987 - val_accuracy: 0.8549\n",
            "Epoch 45/50\n",
            "30/30 [==============================] - 1s 23ms/step - loss: 1.2911 - accuracy: 0.8579 - val_loss: 1.3220 - val_accuracy: 0.8362\n",
            "Epoch 46/50\n",
            "30/30 [==============================] - 1s 24ms/step - loss: 1.2962 - accuracy: 0.8538 - val_loss: 1.2901 - val_accuracy: 0.8581\n",
            "Epoch 47/50\n",
            "30/30 [==============================] - 1s 24ms/step - loss: 1.2898 - accuracy: 0.8587 - val_loss: 1.2994 - val_accuracy: 0.8530\n",
            "Epoch 48/50\n",
            "30/30 [==============================] - 1s 23ms/step - loss: 1.2892 - accuracy: 0.8567 - val_loss: 1.2953 - val_accuracy: 0.8541\n",
            "Epoch 49/50\n",
            "30/30 [==============================] - 1s 25ms/step - loss: 1.2914 - accuracy: 0.8558 - val_loss: 1.2907 - val_accuracy: 0.8567\n",
            "Epoch 50/50\n",
            "30/30 [==============================] - 1s 26ms/step - loss: 1.2891 - accuracy: 0.8586 - val_loss: 1.3843 - val_accuracy: 0.7988\n"
          ]
        }
      ]
    },
    {
      "cell_type": "markdown",
      "source": [
        "# Modelo con Regularización L2 (Ridge)"
      ],
      "metadata": {
        "id": "mjn1EETmfyDL"
      }
    },
    {
      "cell_type": "code",
      "source": [
        "l2 = models.Sequential([\n",
        "    layers.Dense(16,activation='relu', input_shape=(10000,),kernel_regularizer=regularizers.L2(l2=0.01)),\n",
        "    layers.Dense(16, activation='relu',kernel_regularizer=regularizers.L2(l2=0.01)),\n",
        "    layers.Dense(1, activation='sigmoid')\n",
        "  ])"
      ],
      "metadata": {
        "id": "6BOwtreQf2AH"
      },
      "execution_count": null,
      "outputs": []
    },
    {
      "cell_type": "code",
      "source": [
        "l2.compile(optimizer='rmsprop',\n",
        "              loss='binary_crossentropy',\n",
        "              metrics=['accuracy'])"
      ],
      "metadata": {
        "id": "2iTH3ZZ3WOre"
      },
      "execution_count": null,
      "outputs": []
    },
    {
      "cell_type": "code",
      "source": [
        "history_l2 = l2.fit(partial_x_train,\n",
        "                    partial_y_train,\n",
        "                    epochs=50,\n",
        "                    batch_size=512, #64, #32,\n",
        "                    validation_data=(x_val, y_val))"
      ],
      "metadata": {
        "id": "yJgjAxs1WSGx",
        "colab": {
          "base_uri": "https://localhost:8080/"
        },
        "outputId": "595e6541-edd2-451d-aec9-96904c676cfd"
      },
      "execution_count": null,
      "outputs": [
        {
          "output_type": "stream",
          "name": "stdout",
          "text": [
            "Epoch 1/50\n",
            "30/30 [==============================] - 3s 58ms/step - loss: 0.8151 - accuracy: 0.7805 - val_loss: 0.6504 - val_accuracy: 0.8426\n",
            "Epoch 2/50\n",
            "30/30 [==============================] - 1s 26ms/step - loss: 0.5658 - accuracy: 0.8805 - val_loss: 0.5641 - val_accuracy: 0.8623\n",
            "Epoch 3/50\n",
            "30/30 [==============================] - 1s 23ms/step - loss: 0.5102 - accuracy: 0.8899 - val_loss: 0.5113 - val_accuracy: 0.8800\n",
            "Epoch 4/50\n",
            "30/30 [==============================] - 1s 23ms/step - loss: 0.4738 - accuracy: 0.9002 - val_loss: 0.5142 - val_accuracy: 0.8642\n",
            "Epoch 5/50\n",
            "30/30 [==============================] - 1s 25ms/step - loss: 0.4606 - accuracy: 0.8974 - val_loss: 0.5294 - val_accuracy: 0.8515\n",
            "Epoch 6/50\n",
            "30/30 [==============================] - 1s 23ms/step - loss: 0.4510 - accuracy: 0.9011 - val_loss: 0.4788 - val_accuracy: 0.8785\n",
            "Epoch 7/50\n",
            "30/30 [==============================] - 1s 25ms/step - loss: 0.4354 - accuracy: 0.9018 - val_loss: 0.4918 - val_accuracy: 0.8653\n",
            "Epoch 8/50\n",
            "30/30 [==============================] - 1s 25ms/step - loss: 0.4291 - accuracy: 0.9015 - val_loss: 0.4687 - val_accuracy: 0.8762\n",
            "Epoch 9/50\n",
            "30/30 [==============================] - 1s 24ms/step - loss: 0.4171 - accuracy: 0.9055 - val_loss: 0.4721 - val_accuracy: 0.8715\n",
            "Epoch 10/50\n",
            "30/30 [==============================] - 1s 24ms/step - loss: 0.4165 - accuracy: 0.9031 - val_loss: 0.4531 - val_accuracy: 0.8812\n",
            "Epoch 11/50\n",
            "30/30 [==============================] - 1s 24ms/step - loss: 0.4072 - accuracy: 0.9065 - val_loss: 0.4629 - val_accuracy: 0.8722\n",
            "Epoch 12/50\n",
            "30/30 [==============================] - 1s 31ms/step - loss: 0.4047 - accuracy: 0.9050 - val_loss: 0.5087 - val_accuracy: 0.8476\n",
            "Epoch 13/50\n",
            "30/30 [==============================] - 1s 31ms/step - loss: 0.3950 - accuracy: 0.9107 - val_loss: 0.5825 - val_accuracy: 0.8107\n",
            "Epoch 14/50\n",
            "30/30 [==============================] - 1s 26ms/step - loss: 0.3958 - accuracy: 0.9089 - val_loss: 0.4461 - val_accuracy: 0.8803\n",
            "Epoch 15/50\n",
            "30/30 [==============================] - 1s 24ms/step - loss: 0.3910 - accuracy: 0.9098 - val_loss: 0.4948 - val_accuracy: 0.8541\n",
            "Epoch 16/50\n",
            "30/30 [==============================] - 1s 23ms/step - loss: 0.3868 - accuracy: 0.9101 - val_loss: 0.4616 - val_accuracy: 0.8672\n",
            "Epoch 17/50\n",
            "30/30 [==============================] - 1s 24ms/step - loss: 0.3796 - accuracy: 0.9135 - val_loss: 0.5363 - val_accuracy: 0.8283\n",
            "Epoch 18/50\n",
            "30/30 [==============================] - 1s 22ms/step - loss: 0.3850 - accuracy: 0.9078 - val_loss: 0.4849 - val_accuracy: 0.8532\n",
            "Epoch 19/50\n",
            "30/30 [==============================] - 1s 22ms/step - loss: 0.3840 - accuracy: 0.9088 - val_loss: 0.4416 - val_accuracy: 0.8786\n",
            "Epoch 20/50\n",
            "30/30 [==============================] - 1s 23ms/step - loss: 0.3739 - accuracy: 0.9141 - val_loss: 0.4932 - val_accuracy: 0.8482\n",
            "Epoch 21/50\n",
            "30/30 [==============================] - 1s 25ms/step - loss: 0.3801 - accuracy: 0.9079 - val_loss: 0.4343 - val_accuracy: 0.8807\n",
            "Epoch 22/50\n",
            "30/30 [==============================] - 1s 25ms/step - loss: 0.3712 - accuracy: 0.9120 - val_loss: 0.5615 - val_accuracy: 0.8165\n",
            "Epoch 23/50\n",
            "30/30 [==============================] - 1s 23ms/step - loss: 0.3704 - accuracy: 0.9131 - val_loss: 0.4479 - val_accuracy: 0.8735\n",
            "Epoch 24/50\n",
            "30/30 [==============================] - 1s 24ms/step - loss: 0.3700 - accuracy: 0.9111 - val_loss: 0.4275 - val_accuracy: 0.8804\n",
            "Epoch 25/50\n",
            "30/30 [==============================] - 1s 25ms/step - loss: 0.3673 - accuracy: 0.9118 - val_loss: 0.4363 - val_accuracy: 0.8775\n",
            "Epoch 26/50\n",
            "30/30 [==============================] - 1s 25ms/step - loss: 0.3600 - accuracy: 0.9174 - val_loss: 0.5413 - val_accuracy: 0.8300\n",
            "Epoch 27/50\n",
            "30/30 [==============================] - 1s 25ms/step - loss: 0.3688 - accuracy: 0.9115 - val_loss: 0.4367 - val_accuracy: 0.8734\n",
            "Epoch 28/50\n",
            "30/30 [==============================] - 1s 40ms/step - loss: 0.3597 - accuracy: 0.9161 - val_loss: 0.4473 - val_accuracy: 0.8724\n",
            "Epoch 29/50\n",
            "30/30 [==============================] - 1s 23ms/step - loss: 0.3585 - accuracy: 0.9161 - val_loss: 0.5014 - val_accuracy: 0.8437\n",
            "Epoch 30/50\n",
            "30/30 [==============================] - 1s 25ms/step - loss: 0.3634 - accuracy: 0.9130 - val_loss: 0.4283 - val_accuracy: 0.8804\n",
            "Epoch 31/50\n",
            "30/30 [==============================] - 1s 22ms/step - loss: 0.3556 - accuracy: 0.9151 - val_loss: 0.4594 - val_accuracy: 0.8691\n",
            "Epoch 32/50\n",
            "30/30 [==============================] - 1s 23ms/step - loss: 0.3552 - accuracy: 0.9160 - val_loss: 0.5120 - val_accuracy: 0.8408\n",
            "Epoch 33/50\n",
            "30/30 [==============================] - 1s 26ms/step - loss: 0.3524 - accuracy: 0.9157 - val_loss: 0.4395 - val_accuracy: 0.8758\n",
            "Epoch 34/50\n",
            "30/30 [==============================] - 1s 22ms/step - loss: 0.3580 - accuracy: 0.9161 - val_loss: 0.4207 - val_accuracy: 0.8816\n",
            "Epoch 35/50\n",
            "30/30 [==============================] - 1s 22ms/step - loss: 0.3518 - accuracy: 0.9167 - val_loss: 0.4265 - val_accuracy: 0.8795\n",
            "Epoch 36/50\n",
            "30/30 [==============================] - 1s 24ms/step - loss: 0.3475 - accuracy: 0.9182 - val_loss: 0.4220 - val_accuracy: 0.8821\n",
            "Epoch 37/50\n",
            "30/30 [==============================] - 1s 23ms/step - loss: 0.3476 - accuracy: 0.9167 - val_loss: 0.4192 - val_accuracy: 0.8811\n",
            "Epoch 38/50\n",
            "30/30 [==============================] - 1s 24ms/step - loss: 0.3464 - accuracy: 0.9191 - val_loss: 0.4171 - val_accuracy: 0.8819\n",
            "Epoch 39/50\n",
            "30/30 [==============================] - 1s 24ms/step - loss: 0.3546 - accuracy: 0.9139 - val_loss: 0.4205 - val_accuracy: 0.8782\n",
            "Epoch 40/50\n",
            "30/30 [==============================] - 1s 23ms/step - loss: 0.3372 - accuracy: 0.9230 - val_loss: 0.4129 - val_accuracy: 0.8825\n",
            "Epoch 41/50\n",
            "30/30 [==============================] - 1s 24ms/step - loss: 0.3353 - accuracy: 0.9216 - val_loss: 0.4654 - val_accuracy: 0.8612\n",
            "Epoch 42/50\n",
            "30/30 [==============================] - 1s 25ms/step - loss: 0.3434 - accuracy: 0.9188 - val_loss: 0.4295 - val_accuracy: 0.8765\n",
            "Epoch 43/50\n",
            "30/30 [==============================] - 1s 31ms/step - loss: 0.3356 - accuracy: 0.9186 - val_loss: 0.4155 - val_accuracy: 0.8782\n",
            "Epoch 44/50\n",
            "30/30 [==============================] - 1s 29ms/step - loss: 0.3424 - accuracy: 0.9169 - val_loss: 0.4276 - val_accuracy: 0.8745\n",
            "Epoch 45/50\n",
            "30/30 [==============================] - 1s 26ms/step - loss: 0.3389 - accuracy: 0.9193 - val_loss: 0.4184 - val_accuracy: 0.8796\n",
            "Epoch 46/50\n",
            "30/30 [==============================] - 1s 23ms/step - loss: 0.3383 - accuracy: 0.9187 - val_loss: 0.4130 - val_accuracy: 0.8799\n",
            "Epoch 47/50\n",
            "30/30 [==============================] - 1s 22ms/step - loss: 0.3316 - accuracy: 0.9233 - val_loss: 0.4266 - val_accuracy: 0.8737\n",
            "Epoch 48/50\n",
            "30/30 [==============================] - 1s 23ms/step - loss: 0.3384 - accuracy: 0.9157 - val_loss: 0.4101 - val_accuracy: 0.8812\n",
            "Epoch 49/50\n",
            "30/30 [==============================] - 1s 24ms/step - loss: 0.3384 - accuracy: 0.9193 - val_loss: 0.4139 - val_accuracy: 0.8783\n",
            "Epoch 50/50\n",
            "30/30 [==============================] - 1s 23ms/step - loss: 0.3271 - accuracy: 0.9231 - val_loss: 0.4288 - val_accuracy: 0.8776\n"
          ]
        }
      ]
    },
    {
      "cell_type": "markdown",
      "source": [
        "# Modelo L1 y L2 ElasticNet"
      ],
      "metadata": {
        "id": "_9iI8S7zgktn"
      }
    },
    {
      "cell_type": "code",
      "source": [
        "l12 = models.Sequential([\n",
        "    layers.Dense(16,activation='relu', input_shape=(10000,),kernel_regularizer=regularizers.L1L2(l1=0.01, l2=0.01)),\n",
        "    layers.Dense(16, activation='relu',kernel_regularizer=regularizers.L1L2(l1=0.01, l2=0.01)),\n",
        "    layers.Dense(1, activation='sigmoid')\n",
        "  ])"
      ],
      "metadata": {
        "id": "-hXPr0TigpMk"
      },
      "execution_count": null,
      "outputs": []
    },
    {
      "cell_type": "code",
      "source": [
        "l12.compile(optimizer='rmsprop',\n",
        "              loss='binary_crossentropy',\n",
        "              metrics=['accuracy'])"
      ],
      "metadata": {
        "id": "sRiqzZdyXBIN"
      },
      "execution_count": null,
      "outputs": []
    },
    {
      "cell_type": "code",
      "source": [
        "history_l12 = l12.fit(partial_x_train,\n",
        "                    partial_y_train,\n",
        "                    epochs=50,\n",
        "                    batch_size=512, #64, #32,\n",
        "                    validation_data=(x_val, y_val))"
      ],
      "metadata": {
        "id": "JcLlRDGFXCUP",
        "colab": {
          "base_uri": "https://localhost:8080/"
        },
        "outputId": "de874c9e-979c-4971-ba85-635dbc57a472"
      },
      "execution_count": null,
      "outputs": [
        {
          "output_type": "stream",
          "name": "stdout",
          "text": [
            "Epoch 1/50\n",
            "30/30 [==============================] - 3s 57ms/step - loss: 5.0901 - accuracy: 0.5669 - val_loss: 2.0577 - val_accuracy: 0.7146\n",
            "Epoch 2/50\n",
            "30/30 [==============================] - 1s 25ms/step - loss: 2.0202 - accuracy: 0.6292 - val_loss: 1.9527 - val_accuracy: 0.7445\n",
            "Epoch 3/50\n",
            "30/30 [==============================] - 1s 23ms/step - loss: 1.9253 - accuracy: 0.6850 - val_loss: 1.8708 - val_accuracy: 0.7473\n",
            "Epoch 4/50\n",
            "30/30 [==============================] - 1s 27ms/step - loss: 1.8456 - accuracy: 0.7306 - val_loss: 1.7988 - val_accuracy: 0.7486\n",
            "Epoch 5/50\n",
            "30/30 [==============================] - 1s 28ms/step - loss: 1.7762 - accuracy: 0.7273 - val_loss: 1.7334 - val_accuracy: 0.7383\n",
            "Epoch 6/50\n",
            "30/30 [==============================] - 1s 25ms/step - loss: 1.7128 - accuracy: 0.7364 - val_loss: 1.6804 - val_accuracy: 0.7385\n",
            "Epoch 7/50\n",
            "30/30 [==============================] - 1s 24ms/step - loss: 1.6587 - accuracy: 0.7369 - val_loss: 1.6275 - val_accuracy: 0.7533\n",
            "Epoch 8/50\n",
            "30/30 [==============================] - 1s 23ms/step - loss: 1.6116 - accuracy: 0.7482 - val_loss: 1.5854 - val_accuracy: 0.7589\n",
            "Epoch 9/50\n",
            "30/30 [==============================] - 1s 22ms/step - loss: 1.5721 - accuracy: 0.7532 - val_loss: 1.5518 - val_accuracy: 0.7353\n",
            "Epoch 10/50\n",
            "30/30 [==============================] - 1s 23ms/step - loss: 1.5363 - accuracy: 0.7619 - val_loss: 1.5188 - val_accuracy: 0.7772\n",
            "Epoch 11/50\n",
            "30/30 [==============================] - 1s 23ms/step - loss: 1.5073 - accuracy: 0.7727 - val_loss: 1.4918 - val_accuracy: 0.7771\n",
            "Epoch 12/50\n",
            "30/30 [==============================] - 1s 24ms/step - loss: 1.4824 - accuracy: 0.7803 - val_loss: 1.4719 - val_accuracy: 0.7928\n",
            "Epoch 13/50\n",
            "30/30 [==============================] - 1s 22ms/step - loss: 1.4625 - accuracy: 0.7895 - val_loss: 1.4550 - val_accuracy: 0.7812\n",
            "Epoch 14/50\n",
            "30/30 [==============================] - 1s 24ms/step - loss: 1.4493 - accuracy: 0.7949 - val_loss: 1.4463 - val_accuracy: 0.8015\n",
            "Epoch 15/50\n",
            "30/30 [==============================] - 1s 22ms/step - loss: 1.4397 - accuracy: 0.7996 - val_loss: 1.4334 - val_accuracy: 0.8094\n",
            "Epoch 16/50\n",
            "30/30 [==============================] - 1s 23ms/step - loss: 1.4298 - accuracy: 0.8069 - val_loss: 1.4305 - val_accuracy: 0.8122\n",
            "Epoch 17/50\n",
            "30/30 [==============================] - 1s 23ms/step - loss: 1.4225 - accuracy: 0.8121 - val_loss: 1.4236 - val_accuracy: 0.8144\n",
            "Epoch 18/50\n",
            "30/30 [==============================] - 1s 22ms/step - loss: 1.4158 - accuracy: 0.8139 - val_loss: 1.4153 - val_accuracy: 0.8185\n",
            "Epoch 19/50\n",
            "30/30 [==============================] - 1s 23ms/step - loss: 1.4089 - accuracy: 0.8204 - val_loss: 1.4077 - val_accuracy: 0.8202\n",
            "Epoch 20/50\n",
            "30/30 [==============================] - 1s 28ms/step - loss: 1.4034 - accuracy: 0.8253 - val_loss: 1.4049 - val_accuracy: 0.8236\n",
            "Epoch 21/50\n",
            "30/30 [==============================] - 1s 26ms/step - loss: 1.3949 - accuracy: 0.8281 - val_loss: 1.4007 - val_accuracy: 0.8300\n",
            "Epoch 22/50\n",
            "30/30 [==============================] - 1s 26ms/step - loss: 1.3943 - accuracy: 0.8279 - val_loss: 1.3919 - val_accuracy: 0.8291\n",
            "Epoch 23/50\n",
            "30/30 [==============================] - 1s 26ms/step - loss: 1.3853 - accuracy: 0.8329 - val_loss: 1.3884 - val_accuracy: 0.8324\n",
            "Epoch 24/50\n",
            "30/30 [==============================] - 1s 25ms/step - loss: 1.3824 - accuracy: 0.8337 - val_loss: 1.3806 - val_accuracy: 0.8328\n",
            "Epoch 25/50\n",
            "30/30 [==============================] - 1s 22ms/step - loss: 1.3788 - accuracy: 0.8348 - val_loss: 1.3922 - val_accuracy: 0.8295\n",
            "Epoch 26/50\n",
            "30/30 [==============================] - 1s 23ms/step - loss: 1.3738 - accuracy: 0.8389 - val_loss: 1.3796 - val_accuracy: 0.8347\n",
            "Epoch 27/50\n",
            "30/30 [==============================] - 1s 23ms/step - loss: 1.3693 - accuracy: 0.8395 - val_loss: 1.3800 - val_accuracy: 0.8372\n",
            "Epoch 28/50\n",
            "30/30 [==============================] - 1s 22ms/step - loss: 1.3664 - accuracy: 0.8423 - val_loss: 1.3802 - val_accuracy: 0.8394\n",
            "Epoch 29/50\n",
            "30/30 [==============================] - 1s 23ms/step - loss: 1.3634 - accuracy: 0.8462 - val_loss: 1.3715 - val_accuracy: 0.8395\n",
            "Epoch 30/50\n",
            "30/30 [==============================] - 1s 25ms/step - loss: 1.3584 - accuracy: 0.8455 - val_loss: 1.3736 - val_accuracy: 0.8392\n",
            "Epoch 31/50\n",
            "30/30 [==============================] - 1s 25ms/step - loss: 1.3601 - accuracy: 0.8451 - val_loss: 1.3774 - val_accuracy: 0.8320\n",
            "Epoch 32/50\n",
            "30/30 [==============================] - 1s 23ms/step - loss: 1.3563 - accuracy: 0.8434 - val_loss: 1.3742 - val_accuracy: 0.8355\n",
            "Epoch 33/50\n",
            "30/30 [==============================] - 1s 24ms/step - loss: 1.3543 - accuracy: 0.8451 - val_loss: 1.3641 - val_accuracy: 0.8422\n",
            "Epoch 34/50\n",
            "30/30 [==============================] - 1s 25ms/step - loss: 1.3512 - accuracy: 0.8473 - val_loss: 1.3589 - val_accuracy: 0.8447\n",
            "Epoch 35/50\n",
            "30/30 [==============================] - 1s 24ms/step - loss: 1.3507 - accuracy: 0.8476 - val_loss: 1.3593 - val_accuracy: 0.8454\n",
            "Epoch 36/50\n",
            "30/30 [==============================] - 1s 40ms/step - loss: 1.3509 - accuracy: 0.8455 - val_loss: 1.3835 - val_accuracy: 0.8322\n",
            "Epoch 37/50\n",
            "30/30 [==============================] - 1s 28ms/step - loss: 1.3443 - accuracy: 0.8503 - val_loss: 1.3579 - val_accuracy: 0.8474\n",
            "Epoch 38/50\n",
            "30/30 [==============================] - 1s 24ms/step - loss: 1.3469 - accuracy: 0.8496 - val_loss: 1.4016 - val_accuracy: 0.8100\n",
            "Epoch 39/50\n",
            "30/30 [==============================] - 1s 23ms/step - loss: 1.3455 - accuracy: 0.8491 - val_loss: 1.3625 - val_accuracy: 0.8438\n",
            "Epoch 40/50\n",
            "30/30 [==============================] - 1s 25ms/step - loss: 1.3414 - accuracy: 0.8498 - val_loss: 1.3672 - val_accuracy: 0.8375\n",
            "Epoch 41/50\n",
            "30/30 [==============================] - 1s 25ms/step - loss: 1.3433 - accuracy: 0.8503 - val_loss: 1.3545 - val_accuracy: 0.8451\n",
            "Epoch 42/50\n",
            "30/30 [==============================] - 1s 23ms/step - loss: 1.3397 - accuracy: 0.8517 - val_loss: 1.3650 - val_accuracy: 0.8397\n",
            "Epoch 43/50\n",
            "30/30 [==============================] - 1s 22ms/step - loss: 1.3374 - accuracy: 0.8539 - val_loss: 1.3562 - val_accuracy: 0.8456\n",
            "Epoch 44/50\n",
            "30/30 [==============================] - 1s 23ms/step - loss: 1.3399 - accuracy: 0.8513 - val_loss: 1.3591 - val_accuracy: 0.8406\n",
            "Epoch 45/50\n",
            "30/30 [==============================] - 1s 25ms/step - loss: 1.3404 - accuracy: 0.8503 - val_loss: 1.3480 - val_accuracy: 0.8499\n",
            "Epoch 46/50\n",
            "30/30 [==============================] - 1s 23ms/step - loss: 1.3366 - accuracy: 0.8518 - val_loss: 1.3682 - val_accuracy: 0.8300\n",
            "Epoch 47/50\n",
            "30/30 [==============================] - 1s 25ms/step - loss: 1.3349 - accuracy: 0.8523 - val_loss: 1.3474 - val_accuracy: 0.8498\n",
            "Epoch 48/50\n",
            "30/30 [==============================] - 1s 25ms/step - loss: 1.3327 - accuracy: 0.8537 - val_loss: 1.3628 - val_accuracy: 0.8461\n",
            "Epoch 49/50\n",
            "30/30 [==============================] - 1s 25ms/step - loss: 1.3354 - accuracy: 0.8515 - val_loss: 1.3426 - val_accuracy: 0.8535\n",
            "Epoch 50/50\n",
            "30/30 [==============================] - 1s 22ms/step - loss: 1.3320 - accuracy: 0.8543 - val_loss: 1.3516 - val_accuracy: 0.8498\n"
          ]
        }
      ]
    },
    {
      "cell_type": "markdown",
      "source": [
        "# Modelo con Dropout"
      ],
      "metadata": {
        "id": "ALnqNkYcf2Lg"
      }
    },
    {
      "cell_type": "code",
      "source": [
        "Drop_out = models.Sequential([\n",
        "  layers.Dense(16, activation='relu', input_shape=(10000,)),\n",
        "  layers.Dropout(0.5),\n",
        "  layers.Dense(16, activation='relu'),\n",
        "  layers.Dropout(0.5),\n",
        "  layers.Dense(1, activation='sigmoid')\n",
        "  ])"
      ],
      "metadata": {
        "id": "tJ-6qJNuh6k8"
      },
      "execution_count": null,
      "outputs": []
    },
    {
      "cell_type": "code",
      "source": [
        "Drop_out.compile(optimizer='rmsprop',\n",
        "              loss='binary_crossentropy',\n",
        "              metrics=['accuracy'])"
      ],
      "metadata": {
        "id": "a_MKZPj2iSxE"
      },
      "execution_count": null,
      "outputs": []
    },
    {
      "cell_type": "code",
      "source": [
        "history_Drop = Drop_out.fit(partial_x_train,\n",
        "                    partial_y_train,\n",
        "                    epochs=50,\n",
        "                    batch_size=512, #64, #32,\n",
        "                    validation_data=(x_val, y_val))"
      ],
      "metadata": {
        "colab": {
          "base_uri": "https://localhost:8080/"
        },
        "id": "DoTlaaoAiV9S",
        "outputId": "b473ccc3-c1af-4afb-c4cd-c532ba4dee2d"
      },
      "execution_count": null,
      "outputs": [
        {
          "output_type": "stream",
          "name": "stdout",
          "text": [
            "Epoch 1/50\n",
            "30/30 [==============================] - 3s 56ms/step - loss: 0.6351 - accuracy: 0.6357 - val_loss: 0.5313 - val_accuracy: 0.8418\n",
            "Epoch 2/50\n",
            "30/30 [==============================] - 1s 23ms/step - loss: 0.5149 - accuracy: 0.7643 - val_loss: 0.4075 - val_accuracy: 0.8680\n",
            "Epoch 3/50\n",
            "30/30 [==============================] - 1s 26ms/step - loss: 0.4281 - accuracy: 0.8227 - val_loss: 0.3677 - val_accuracy: 0.8593\n",
            "Epoch 4/50\n",
            "30/30 [==============================] - 1s 23ms/step - loss: 0.3646 - accuracy: 0.8589 - val_loss: 0.3081 - val_accuracy: 0.8847\n",
            "Epoch 5/50\n",
            "30/30 [==============================] - 1s 25ms/step - loss: 0.3165 - accuracy: 0.8827 - val_loss: 0.2849 - val_accuracy: 0.8876\n",
            "Epoch 6/50\n",
            "30/30 [==============================] - 1s 26ms/step - loss: 0.2776 - accuracy: 0.9061 - val_loss: 0.2984 - val_accuracy: 0.8796\n",
            "Epoch 7/50\n",
            "30/30 [==============================] - 1s 24ms/step - loss: 0.2490 - accuracy: 0.9211 - val_loss: 0.2759 - val_accuracy: 0.8870\n",
            "Epoch 8/50\n",
            "30/30 [==============================] - 1s 25ms/step - loss: 0.2237 - accuracy: 0.9289 - val_loss: 0.2835 - val_accuracy: 0.8877\n",
            "Epoch 9/50\n",
            "30/30 [==============================] - 1s 25ms/step - loss: 0.1929 - accuracy: 0.9393 - val_loss: 0.2971 - val_accuracy: 0.8891\n",
            "Epoch 10/50\n",
            "30/30 [==============================] - 1s 26ms/step - loss: 0.1720 - accuracy: 0.9497 - val_loss: 0.3160 - val_accuracy: 0.8864\n",
            "Epoch 11/50\n",
            "30/30 [==============================] - 1s 23ms/step - loss: 0.1580 - accuracy: 0.9529 - val_loss: 0.3229 - val_accuracy: 0.8870\n",
            "Epoch 12/50\n",
            "30/30 [==============================] - 1s 41ms/step - loss: 0.1394 - accuracy: 0.9588 - val_loss: 0.3395 - val_accuracy: 0.8875\n",
            "Epoch 13/50\n",
            "30/30 [==============================] - 1s 27ms/step - loss: 0.1275 - accuracy: 0.9620 - val_loss: 0.3732 - val_accuracy: 0.8821\n",
            "Epoch 14/50\n",
            "30/30 [==============================] - 1s 23ms/step - loss: 0.1103 - accuracy: 0.9656 - val_loss: 0.3708 - val_accuracy: 0.8830\n",
            "Epoch 15/50\n",
            "30/30 [==============================] - 1s 23ms/step - loss: 0.1100 - accuracy: 0.9670 - val_loss: 0.4064 - val_accuracy: 0.8833\n",
            "Epoch 16/50\n",
            "30/30 [==============================] - 1s 23ms/step - loss: 0.0956 - accuracy: 0.9726 - val_loss: 0.4292 - val_accuracy: 0.8831\n",
            "Epoch 17/50\n",
            "30/30 [==============================] - 1s 23ms/step - loss: 0.0850 - accuracy: 0.9751 - val_loss: 0.4774 - val_accuracy: 0.8796\n",
            "Epoch 18/50\n",
            "30/30 [==============================] - 1s 23ms/step - loss: 0.0838 - accuracy: 0.9762 - val_loss: 0.4866 - val_accuracy: 0.8842\n",
            "Epoch 19/50\n",
            "30/30 [==============================] - 1s 26ms/step - loss: 0.0850 - accuracy: 0.9755 - val_loss: 0.4917 - val_accuracy: 0.8810\n",
            "Epoch 20/50\n",
            "30/30 [==============================] - 1s 24ms/step - loss: 0.0739 - accuracy: 0.9788 - val_loss: 0.5049 - val_accuracy: 0.8820\n",
            "Epoch 21/50\n",
            "30/30 [==============================] - 1s 25ms/step - loss: 0.0717 - accuracy: 0.9786 - val_loss: 0.5275 - val_accuracy: 0.8822\n",
            "Epoch 22/50\n",
            "30/30 [==============================] - 1s 23ms/step - loss: 0.0669 - accuracy: 0.9801 - val_loss: 0.5920 - val_accuracy: 0.8810\n",
            "Epoch 23/50\n",
            "30/30 [==============================] - 1s 24ms/step - loss: 0.0631 - accuracy: 0.9809 - val_loss: 0.6040 - val_accuracy: 0.8828\n",
            "Epoch 24/50\n",
            "30/30 [==============================] - 1s 26ms/step - loss: 0.0627 - accuracy: 0.9826 - val_loss: 0.6215 - val_accuracy: 0.8777\n",
            "Epoch 25/50\n",
            "30/30 [==============================] - 1s 23ms/step - loss: 0.0553 - accuracy: 0.9849 - val_loss: 0.6386 - val_accuracy: 0.8788\n",
            "Epoch 26/50\n",
            "30/30 [==============================] - 1s 26ms/step - loss: 0.0577 - accuracy: 0.9851 - val_loss: 0.6703 - val_accuracy: 0.8779\n",
            "Epoch 27/50\n",
            "30/30 [==============================] - 1s 29ms/step - loss: 0.0550 - accuracy: 0.9840 - val_loss: 0.6839 - val_accuracy: 0.8810\n",
            "Epoch 28/50\n",
            "30/30 [==============================] - 1s 32ms/step - loss: 0.0542 - accuracy: 0.9849 - val_loss: 0.7229 - val_accuracy: 0.8793\n",
            "Epoch 29/50\n",
            "30/30 [==============================] - 1s 23ms/step - loss: 0.0536 - accuracy: 0.9857 - val_loss: 0.6874 - val_accuracy: 0.8812\n",
            "Epoch 30/50\n",
            "30/30 [==============================] - 1s 26ms/step - loss: 0.0572 - accuracy: 0.9855 - val_loss: 0.7096 - val_accuracy: 0.8792\n",
            "Epoch 31/50\n",
            "30/30 [==============================] - 1s 24ms/step - loss: 0.0578 - accuracy: 0.9851 - val_loss: 0.7631 - val_accuracy: 0.8806\n",
            "Epoch 32/50\n",
            "30/30 [==============================] - 1s 23ms/step - loss: 0.0544 - accuracy: 0.9872 - val_loss: 0.7816 - val_accuracy: 0.8799\n",
            "Epoch 33/50\n",
            "30/30 [==============================] - 1s 23ms/step - loss: 0.0549 - accuracy: 0.9859 - val_loss: 0.7871 - val_accuracy: 0.8793\n",
            "Epoch 34/50\n",
            "30/30 [==============================] - 1s 25ms/step - loss: 0.0499 - accuracy: 0.9871 - val_loss: 0.8531 - val_accuracy: 0.8785\n",
            "Epoch 35/50\n",
            "30/30 [==============================] - 1s 23ms/step - loss: 0.0511 - accuracy: 0.9857 - val_loss: 0.8217 - val_accuracy: 0.8769\n",
            "Epoch 36/50\n",
            "30/30 [==============================] - 1s 23ms/step - loss: 0.0525 - accuracy: 0.9880 - val_loss: 0.8507 - val_accuracy: 0.8782\n",
            "Epoch 37/50\n",
            "30/30 [==============================] - 1s 24ms/step - loss: 0.0524 - accuracy: 0.9863 - val_loss: 0.8615 - val_accuracy: 0.8802\n",
            "Epoch 38/50\n",
            "30/30 [==============================] - 1s 26ms/step - loss: 0.0528 - accuracy: 0.9860 - val_loss: 0.8566 - val_accuracy: 0.8793\n",
            "Epoch 39/50\n",
            "30/30 [==============================] - 1s 23ms/step - loss: 0.0523 - accuracy: 0.9867 - val_loss: 0.8244 - val_accuracy: 0.8790\n",
            "Epoch 40/50\n",
            "30/30 [==============================] - 1s 24ms/step - loss: 0.0478 - accuracy: 0.9878 - val_loss: 0.9249 - val_accuracy: 0.8789\n",
            "Epoch 41/50\n",
            "30/30 [==============================] - 1s 26ms/step - loss: 0.0564 - accuracy: 0.9857 - val_loss: 0.8791 - val_accuracy: 0.8777\n",
            "Epoch 42/50\n",
            "30/30 [==============================] - 1s 26ms/step - loss: 0.0528 - accuracy: 0.9873 - val_loss: 0.8503 - val_accuracy: 0.8784\n",
            "Epoch 43/50\n",
            "30/30 [==============================] - 1s 29ms/step - loss: 0.0523 - accuracy: 0.9865 - val_loss: 0.9337 - val_accuracy: 0.8784\n",
            "Epoch 44/50\n",
            "30/30 [==============================] - 1s 27ms/step - loss: 0.0505 - accuracy: 0.9863 - val_loss: 0.8722 - val_accuracy: 0.8780\n",
            "Epoch 45/50\n",
            "30/30 [==============================] - 1s 24ms/step - loss: 0.0530 - accuracy: 0.9865 - val_loss: 0.9877 - val_accuracy: 0.8759\n",
            "Epoch 46/50\n",
            "30/30 [==============================] - 1s 24ms/step - loss: 0.0498 - accuracy: 0.9879 - val_loss: 1.0078 - val_accuracy: 0.8767\n",
            "Epoch 47/50\n",
            "30/30 [==============================] - 1s 25ms/step - loss: 0.0497 - accuracy: 0.9875 - val_loss: 1.0197 - val_accuracy: 0.8766\n",
            "Epoch 48/50\n",
            "30/30 [==============================] - 1s 23ms/step - loss: 0.0592 - accuracy: 0.9861 - val_loss: 1.0322 - val_accuracy: 0.8746\n",
            "Epoch 49/50\n",
            "30/30 [==============================] - 1s 23ms/step - loss: 0.0485 - accuracy: 0.9883 - val_loss: 0.9789 - val_accuracy: 0.8750\n",
            "Epoch 50/50\n",
            "30/30 [==============================] - 1s 25ms/step - loss: 0.0530 - accuracy: 0.9886 - val_loss: 1.0423 - val_accuracy: 0.8761\n"
          ]
        }
      ]
    },
    {
      "cell_type": "markdown",
      "source": [
        "# Modelo con Dropout y L2"
      ],
      "metadata": {
        "id": "ioOEgyRLnaTT"
      }
    },
    {
      "cell_type": "code",
      "source": [
        "Drop_outL2 = models.Sequential([\n",
        "  layers.Dense(16,activation='relu', input_shape=(10000,),kernel_regularizer=regularizers.L2(l2=0.01)),\n",
        "  layers.Dropout(0.5),\n",
        "  layers.Dense(16, activation='relu',kernel_regularizer=regularizers.L2(l2=0.01)),\n",
        "  layers.Dropout(0.5),\n",
        "  layers.Dense(1, activation='sigmoid')\n",
        "  ])"
      ],
      "metadata": {
        "id": "H4MBrQBvoJ8v"
      },
      "execution_count": null,
      "outputs": []
    },
    {
      "cell_type": "code",
      "source": [
        "Drop_outL2.compile(optimizer='rmsprop',\n",
        "              loss='binary_crossentropy',\n",
        "              metrics=['accuracy'])"
      ],
      "metadata": {
        "id": "ZXGlXNHSoOsP"
      },
      "execution_count": null,
      "outputs": []
    },
    {
      "cell_type": "code",
      "source": [
        "history_DropL2 = Drop_outL2.fit(partial_x_train,\n",
        "                    partial_y_train,\n",
        "                    epochs=50,\n",
        "                    batch_size=512, #64, #32,\n",
        "                    validation_data=(x_val, y_val))"
      ],
      "metadata": {
        "colab": {
          "base_uri": "https://localhost:8080/"
        },
        "id": "UHDYZMyjoTCk",
        "outputId": "60c0f7cf-dab5-4857-fae5-33f217fbc081"
      },
      "execution_count": null,
      "outputs": [
        {
          "output_type": "stream",
          "name": "stdout",
          "text": [
            "Epoch 1/50\n",
            "30/30 [==============================] - 3s 57ms/step - loss: 0.9154 - accuracy: 0.6341 - val_loss: 0.7232 - val_accuracy: 0.7988\n",
            "Epoch 2/50\n",
            "30/30 [==============================] - 1s 26ms/step - loss: 0.7032 - accuracy: 0.7641 - val_loss: 0.6187 - val_accuracy: 0.8494\n",
            "Epoch 3/50\n",
            "30/30 [==============================] - 1s 24ms/step - loss: 0.6287 - accuracy: 0.8087 - val_loss: 0.5508 - val_accuracy: 0.8736\n",
            "Epoch 4/50\n",
            "30/30 [==============================] - 1s 34ms/step - loss: 0.5814 - accuracy: 0.8367 - val_loss: 0.5103 - val_accuracy: 0.8755\n",
            "Epoch 5/50\n",
            "30/30 [==============================] - 1s 30ms/step - loss: 0.5508 - accuracy: 0.8459 - val_loss: 0.4897 - val_accuracy: 0.8732\n",
            "Epoch 6/50\n",
            "30/30 [==============================] - 1s 25ms/step - loss: 0.5186 - accuracy: 0.8633 - val_loss: 0.4643 - val_accuracy: 0.8801\n",
            "Epoch 7/50\n",
            "30/30 [==============================] - 1s 23ms/step - loss: 0.4931 - accuracy: 0.8725 - val_loss: 0.4672 - val_accuracy: 0.8659\n",
            "Epoch 8/50\n",
            "30/30 [==============================] - 1s 26ms/step - loss: 0.4740 - accuracy: 0.8787 - val_loss: 0.4460 - val_accuracy: 0.8731\n",
            "Epoch 9/50\n",
            "30/30 [==============================] - 1s 25ms/step - loss: 0.4694 - accuracy: 0.8759 - val_loss: 0.4443 - val_accuracy: 0.8733\n",
            "Epoch 10/50\n",
            "30/30 [==============================] - 1s 22ms/step - loss: 0.4467 - accuracy: 0.8835 - val_loss: 0.4470 - val_accuracy: 0.8663\n",
            "Epoch 11/50\n",
            "30/30 [==============================] - 1s 23ms/step - loss: 0.4390 - accuracy: 0.8869 - val_loss: 0.4223 - val_accuracy: 0.8809\n",
            "Epoch 12/50\n",
            "30/30 [==============================] - 1s 23ms/step - loss: 0.4294 - accuracy: 0.8893 - val_loss: 0.4484 - val_accuracy: 0.8636\n",
            "Epoch 13/50\n",
            "30/30 [==============================] - 1s 23ms/step - loss: 0.4202 - accuracy: 0.8962 - val_loss: 0.5277 - val_accuracy: 0.8144\n",
            "Epoch 14/50\n",
            "30/30 [==============================] - 1s 25ms/step - loss: 0.4232 - accuracy: 0.8893 - val_loss: 0.4787 - val_accuracy: 0.8410\n",
            "Epoch 15/50\n",
            "30/30 [==============================] - 1s 23ms/step - loss: 0.4091 - accuracy: 0.8997 - val_loss: 0.4149 - val_accuracy: 0.8813\n",
            "Epoch 16/50\n",
            "30/30 [==============================] - 1s 25ms/step - loss: 0.4160 - accuracy: 0.8915 - val_loss: 0.4163 - val_accuracy: 0.8821\n",
            "Epoch 17/50\n",
            "30/30 [==============================] - 1s 23ms/step - loss: 0.4006 - accuracy: 0.8980 - val_loss: 0.4120 - val_accuracy: 0.8811\n",
            "Epoch 18/50\n",
            "30/30 [==============================] - 1s 25ms/step - loss: 0.4093 - accuracy: 0.8957 - val_loss: 0.4108 - val_accuracy: 0.8819\n",
            "Epoch 19/50\n",
            "30/30 [==============================] - 1s 27ms/step - loss: 0.4034 - accuracy: 0.8984 - val_loss: 0.4136 - val_accuracy: 0.8794\n",
            "Epoch 20/50\n",
            "30/30 [==============================] - 1s 30ms/step - loss: 0.3959 - accuracy: 0.9003 - val_loss: 0.4116 - val_accuracy: 0.8780\n",
            "Epoch 21/50\n",
            "30/30 [==============================] - 1s 24ms/step - loss: 0.3990 - accuracy: 0.8945 - val_loss: 0.4225 - val_accuracy: 0.8712\n",
            "Epoch 22/50\n",
            "30/30 [==============================] - 1s 23ms/step - loss: 0.3887 - accuracy: 0.9028 - val_loss: 0.4545 - val_accuracy: 0.8560\n",
            "Epoch 23/50\n",
            "30/30 [==============================] - 1s 25ms/step - loss: 0.3878 - accuracy: 0.9004 - val_loss: 0.4437 - val_accuracy: 0.8615\n",
            "Epoch 24/50\n",
            "30/30 [==============================] - 1s 24ms/step - loss: 0.3897 - accuracy: 0.8993 - val_loss: 0.4104 - val_accuracy: 0.8795\n",
            "Epoch 25/50\n",
            "30/30 [==============================] - 1s 23ms/step - loss: 0.3951 - accuracy: 0.8964 - val_loss: 0.4448 - val_accuracy: 0.8611\n",
            "Epoch 26/50\n",
            "30/30 [==============================] - 1s 23ms/step - loss: 0.3863 - accuracy: 0.8998 - val_loss: 0.4069 - val_accuracy: 0.8815\n",
            "Epoch 27/50\n",
            "30/30 [==============================] - 1s 25ms/step - loss: 0.3808 - accuracy: 0.9057 - val_loss: 0.4122 - val_accuracy: 0.8777\n",
            "Epoch 28/50\n",
            "30/30 [==============================] - 1s 26ms/step - loss: 0.3864 - accuracy: 0.9001 - val_loss: 0.4145 - val_accuracy: 0.8768\n",
            "Epoch 29/50\n",
            "30/30 [==============================] - 1s 23ms/step - loss: 0.3852 - accuracy: 0.8989 - val_loss: 0.4084 - val_accuracy: 0.8820\n",
            "Epoch 30/50\n",
            "30/30 [==============================] - 1s 23ms/step - loss: 0.3895 - accuracy: 0.9005 - val_loss: 0.4088 - val_accuracy: 0.8801\n",
            "Epoch 31/50\n",
            "30/30 [==============================] - 1s 23ms/step - loss: 0.3804 - accuracy: 0.9053 - val_loss: 0.4141 - val_accuracy: 0.8801\n",
            "Epoch 32/50\n",
            "30/30 [==============================] - 1s 27ms/step - loss: 0.3862 - accuracy: 0.9011 - val_loss: 0.4121 - val_accuracy: 0.8797\n",
            "Epoch 33/50\n",
            "30/30 [==============================] - 1s 23ms/step - loss: 0.3758 - accuracy: 0.9043 - val_loss: 0.4213 - val_accuracy: 0.8769\n",
            "Epoch 34/50\n",
            "30/30 [==============================] - 1s 24ms/step - loss: 0.3776 - accuracy: 0.9041 - val_loss: 0.4397 - val_accuracy: 0.8679\n",
            "Epoch 35/50\n",
            "30/30 [==============================] - 1s 34ms/step - loss: 0.3793 - accuracy: 0.9030 - val_loss: 0.4334 - val_accuracy: 0.8696\n",
            "Epoch 36/50\n",
            "30/30 [==============================] - 1s 47ms/step - loss: 0.3798 - accuracy: 0.9031 - val_loss: 0.4112 - val_accuracy: 0.8809\n",
            "Epoch 37/50\n",
            "30/30 [==============================] - 1s 31ms/step - loss: 0.3726 - accuracy: 0.9079 - val_loss: 0.4300 - val_accuracy: 0.8699\n",
            "Epoch 38/50\n",
            "30/30 [==============================] - 1s 26ms/step - loss: 0.3788 - accuracy: 0.9043 - val_loss: 0.4078 - val_accuracy: 0.8804\n",
            "Epoch 39/50\n",
            "30/30 [==============================] - 1s 25ms/step - loss: 0.3706 - accuracy: 0.9072 - val_loss: 0.4208 - val_accuracy: 0.8749\n",
            "Epoch 40/50\n",
            "30/30 [==============================] - 1s 24ms/step - loss: 0.3686 - accuracy: 0.9071 - val_loss: 0.4095 - val_accuracy: 0.8788\n",
            "Epoch 41/50\n",
            "30/30 [==============================] - 1s 25ms/step - loss: 0.3675 - accuracy: 0.9057 - val_loss: 0.4085 - val_accuracy: 0.8812\n",
            "Epoch 42/50\n",
            "30/30 [==============================] - 1s 25ms/step - loss: 0.3729 - accuracy: 0.9045 - val_loss: 0.4277 - val_accuracy: 0.8755\n",
            "Epoch 43/50\n",
            "30/30 [==============================] - 1s 23ms/step - loss: 0.3731 - accuracy: 0.9041 - val_loss: 0.4199 - val_accuracy: 0.8751\n",
            "Epoch 44/50\n",
            "30/30 [==============================] - 1s 24ms/step - loss: 0.3722 - accuracy: 0.9076 - val_loss: 0.4265 - val_accuracy: 0.8715\n",
            "Epoch 45/50\n",
            "30/30 [==============================] - 1s 26ms/step - loss: 0.3657 - accuracy: 0.9084 - val_loss: 0.4076 - val_accuracy: 0.8824\n",
            "Epoch 46/50\n",
            "30/30 [==============================] - 1s 25ms/step - loss: 0.3807 - accuracy: 0.8991 - val_loss: 0.4626 - val_accuracy: 0.8551\n",
            "Epoch 47/50\n",
            "30/30 [==============================] - 1s 23ms/step - loss: 0.3634 - accuracy: 0.9100 - val_loss: 0.4093 - val_accuracy: 0.8805\n",
            "Epoch 48/50\n",
            "30/30 [==============================] - 1s 25ms/step - loss: 0.3717 - accuracy: 0.9049 - val_loss: 0.4237 - val_accuracy: 0.8722\n",
            "Epoch 49/50\n",
            "30/30 [==============================] - 1s 23ms/step - loss: 0.3661 - accuracy: 0.9073 - val_loss: 0.4294 - val_accuracy: 0.8712\n",
            "Epoch 50/50\n",
            "30/30 [==============================] - 1s 25ms/step - loss: 0.3652 - accuracy: 0.9065 - val_loss: 0.4258 - val_accuracy: 0.8722\n"
          ]
        }
      ]
    },
    {
      "cell_type": "markdown",
      "source": [
        "# Viendo los resultados"
      ],
      "metadata": {
        "id": "qqLTQpvQWbu6"
      }
    },
    {
      "cell_type": "code",
      "source": [
        "models = ['modelo original','Regularización l1','Regularización l2','Regularización L1 y L2','Drop_out','Drop_out y L2']\n",
        "historys =[history,history_l1,history_l2,history_l12,history_Drop,history_DropL2]\n",
        "y = 0\n",
        "plt.figure(figsize=(20,10))\n",
        "\n",
        "for i in historys:\n",
        "    # Se grafica la función de costo para los conjuntos de entrenamiento y \n",
        "    # prueba.\n",
        "    plt.subplot(2,3,y+1)\n",
        "    plt.plot(i.history[\"loss\"], label=\"train\")\n",
        "    plt.plot(i.history[\"val_loss\"], label=\"test\")\n",
        "    plt.title(models[y])\n",
        "    plt.ylim(0, 3)\n",
        "    plt.legend()\n",
        "    y += 1\n",
        "\n",
        "plt.show()"
      ],
      "metadata": {
        "id": "Jj8C0ISoiX_a",
        "colab": {
          "base_uri": "https://localhost:8080/",
          "height": 853
        },
        "outputId": "05e13afe-1aa7-4556-af4a-955d9772af3d"
      },
      "execution_count": null,
      "outputs": [
        {
          "output_type": "display_data",
          "data": {
            "text/plain": [
              "<Figure size 2000x1000 with 6 Axes>"
            ],
            "image/png": "[encoded data removed]"
          },
          "metadata": {}
        }
      ]
    },
    {
      "cell_type": "markdown",
      "source": [
        "# CONCLUSIONES\n",
        "\n",
        "Con base en las gráficas resultantes se puede concluir que:\n",
        "\n",
        "1. Las gráficas del modelo original y la del Dropout único presentan un sobre-ajuste, pues a pesar de que los entrenamientos presentan scores superiores al 80% y que las gráficas del training y test tengan un punto mínimo cercano a cero, hay ciertos fallos en los tests los cuales probablemente presenten costos altos.\n",
        "\n",
        "2. Las demás gráficas, con base a la visualización en dicha escala, se puede apreciar que hay un buen rendimiento en entrenamiento como en test. Sin embargo, para las gráficas de la Regularización L1 y la L1-L2 combinadas hay presencia de Sub-ajuste porque las gráficas se encuentran un poco más desplazadas hacia arriba, lo que significaría que el modelo no fue lo suficientemente robusto para capturar la estructura de los datos de entrenamiento junto con los de prueba, por lo que el rendimiento no es el esperado ni el más óptimo a comparación con las de L2 y Dropout-L2\n",
        "\n",
        "3. En los modelos de L2 y Dropout-L2 se aprecia un buen rendimiento debido a que las gráficas del entrenamiento y prueba están casi sobrepuestas una de la otra con diferencias significativas mínimas, se puede ver que el punto mínimo de ambas está cercano a cero, es mucho más pequeño que el de las otras a comparación de la del Dropout único que presentan un sobre-ajuste."
      ],
      "metadata": {
        "id": "WQ-SvbsEy6vE"
      }
    }
  ]
}
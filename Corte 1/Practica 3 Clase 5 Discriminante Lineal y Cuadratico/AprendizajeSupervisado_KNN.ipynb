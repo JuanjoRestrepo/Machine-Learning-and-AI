{
  "cells": [
    {
      "cell_type": "markdown",
      "metadata": {
        "id": "-PsEgRALxAbm"
      },
      "source": [
        "# **ETAPA DE PROCESAMIENTO DE DATOS**\n",
        "\n",
        "# *Isabella Ceballos y Juan Jose Restrepo*\n"
      ]
    },
    {
      "cell_type": "markdown",
      "metadata": {
        "id": "P3-dvmzYxMkp"
      },
      "source": [
        "\n",
        "**1) Importar librerías y lectura de base de datos**"
      ]
    },
    {
      "cell_type": "code",
      "execution_count": 1,
      "metadata": {
        "id": "SayVzSxe8fbX"
      },
      "outputs": [],
      "source": [
        "import numpy as np\n",
        "import pandas as pd\n",
        "import sklearn as sk\n",
        "import seaborn as sns\n",
        "import matplotlib.pyplot as plt\n",
        "import scipy.stats as stats\n",
        "\n",
        "url=\"https://archive.ics.uci.edu/ml/machine-learning-databases/adult/adult.data\"\n",
        "data = pd.read_csv(url, header=None, na_values=\" ?\")\n",
        "data.columns = ['Age', 'Workclass', 'Fnlwgt', 'Education', 'Education-num', 'Maritalstatus', 'Occupation',\n",
        "              'Relationship', 'Race', 'Sex', 'Capital-gain', 'Capital-loss', 'Hpw', 'Country', 'C']"
      ]
    },
    {
      "cell_type": "markdown",
      "metadata": {
        "id": "PsIznARb41bv"
      },
      "source": [
        "**2) Conocimiento Previo Base**"
      ]
    },
    {
      "cell_type": "markdown",
      "metadata": {
        "id": "9lirUeT78kpw"
      },
      "source": [
        "Predecir si los ingresos que superan los 50.000 $/año basándose en los datos del censo. También conocido como conjunto de datos \"Census Income\".\n",
        "\n",
        "\n",
        "\n",
        "*   age: Edad.\n",
        "*   workclass: tipo de trabajo ( privado, etc.)\n",
        "*   fnlwgt: Una estimación de la importancia de la persona en cuanto a su representatividad en relación entre la base de datos donde está.\n",
        "*   education: Educaciones alcanzadas.\n",
        "*   education-num: # de educaciones.\n",
        "*   marital-status: Estado.\n",
        "*   occupation: Ocupación laboral.\n",
        "*   relationship: Relacion ( Casado, con hijos, etc.)\n",
        "*   race: Raza.\n",
        "*   sex: Sexo.\n",
        "*   capital-gain: Ganancias.\n",
        "*   capital-loss: Pérdidas.\n",
        "*   hours-per-week: Horas de trabajo por semana.\n",
        "*   native-country: País de procedencia"
      ]
    },
    {
      "cell_type": "markdown",
      "metadata": {
        "id": "8woHYGc948c8"
      },
      "source": [
        "**3) Relación entre atributos**"
      ]
    },
    {
      "cell_type": "code",
      "execution_count": 2,
      "metadata": {
        "colab": {
          "base_uri": "https://localhost:8080/",
          "height": 382
        },
        "id": "HKtZfv8S8qiA",
        "outputId": "8c33850c-0729-4c28-c6db-045027da009a"
      },
      "outputs": [
        {
          "output_type": "execute_result",
          "data": {
            "text/plain": [
              "<AxesSubplot:>"
            ]
          },
          "metadata": {},
          "execution_count": 2
        },
        {
          "output_type": "display_data",
          "data": {
            "text/plain": [
              "<Figure size 360x360 with 2 Axes>"
            ],
            "image/png": "[encoded data removed]"
          },
          "metadata": {
            "needs_background": "light"
          }
        }
      ],
      "source": [
        "# Datos numéricos\n",
        "fig, ax = plt.subplots(figsize=(5,5))\n",
        "\n",
        "sns.heatmap(data.corr(), square=True, annot=True, ax=ax,fmt=\".1g\")"
      ]
    },
    {
      "cell_type": "markdown",
      "metadata": {
        "id": "Jdou3phD8wUl"
      },
      "source": [
        "De aquí, se puede concluir que ningún atributo tiene relación con otro, por ende, no se puede borrar algún atributo"
      ]
    },
    {
      "cell_type": "code",
      "execution_count": 3,
      "metadata": {
        "colab": {
          "base_uri": "https://localhost:8080/",
          "height": 300
        },
        "id": "odGi6vNV8uMN",
        "outputId": "0d906c0e-a8d6-444e-e16b-d7b6d381d9fb"
      },
      "outputs": [
        {
          "output_type": "execute_result",
          "data": {
            "text/plain": [
              "                Age        Fnlwgt  Education-num  Capital-gain  Capital-loss  \\\n",
              "count  32561.000000  3.256100e+04   32561.000000  32561.000000  32561.000000   \n",
              "mean      38.581647  1.897784e+05      10.080679   1077.648844     87.303830   \n",
              "std       13.640433  1.055500e+05       2.572720   7385.292085    402.960219   \n",
              "min       17.000000  1.228500e+04       1.000000      0.000000      0.000000   \n",
              "25%       28.000000  1.178270e+05       9.000000      0.000000      0.000000   \n",
              "50%       37.000000  1.783560e+05      10.000000      0.000000      0.000000   \n",
              "75%       48.000000  2.370510e+05      12.000000      0.000000      0.000000   \n",
              "max       90.000000  1.484705e+06      16.000000  99999.000000   4356.000000   \n",
              "\n",
              "                Hpw  \n",
              "count  32561.000000  \n",
              "mean      40.437456  \n",
              "std       12.347429  \n",
              "min        1.000000  \n",
              "25%       40.000000  \n",
              "50%       40.000000  \n",
              "75%       45.000000  \n",
              "max       99.000000  "
            ],
            "text/html": [
              "\n",
              "  <div id=\"df-8bfa824a-bdd0-4c4c-ab2a-2de877ed1c5a\">\n",
              "    <div class=\"colab-df-container\">\n",
              "      <div>\n",
              "<style scoped>\n",
              "    .dataframe tbody tr th:only-of-type {\n",
              "        vertical-align: middle;\n",
              "    }\n",
              "\n",
              "    .dataframe tbody tr th {\n",
              "        vertical-align: top;\n",
              "    }\n",
              "\n",
              "    .dataframe thead th {\n",
              "        text-align: right;\n",
              "    }\n",
              "</style>\n",
              "<table border=\"1\" class=\"dataframe\">\n",
              "  <thead>\n",
              "    <tr style=\"text-align: right;\">\n",
              "      <th></th>\n",
              "      <th>Age</th>\n",
              "      <th>Fnlwgt</th>\n",
              "      <th>Education-num</th>\n",
              "      <th>Capital-gain</th>\n",
              "      <th>Capital-loss</th>\n",
              "      <th>Hpw</th>\n",
              "    </tr>\n",
              "  </thead>\n",
              "  <tbody>\n",
              "    <tr>\n",
              "      <th>count</th>\n",
              "      <td>32561.000000</td>\n",
              "      <td>3.256100e+04</td>\n",
              "      <td>32561.000000</td>\n",
              "      <td>32561.000000</td>\n",
              "      <td>32561.000000</td>\n",
              "      <td>32561.000000</td>\n",
              "    </tr>\n",
              "    <tr>\n",
              "      <th>mean</th>\n",
              "      <td>38.581647</td>\n",
              "      <td>1.897784e+05</td>\n",
              "      <td>10.080679</td>\n",
              "      <td>1077.648844</td>\n",
              "      <td>87.303830</td>\n",
              "      <td>40.437456</td>\n",
              "    </tr>\n",
              "    <tr>\n",
              "      <th>std</th>\n",
              "      <td>13.640433</td>\n",
              "      <td>1.055500e+05</td>\n",
              "      <td>2.572720</td>\n",
              "      <td>7385.292085</td>\n",
              "      <td>402.960219</td>\n",
              "      <td>12.347429</td>\n",
              "    </tr>\n",
              "    <tr>\n",
              "      <th>min</th>\n",
              "      <td>17.000000</td>\n",
              "      <td>1.228500e+04</td>\n",
              "      <td>1.000000</td>\n",
              "      <td>0.000000</td>\n",
              "      <td>0.000000</td>\n",
              "      <td>1.000000</td>\n",
              "    </tr>\n",
              "    <tr>\n",
              "      <th>25%</th>\n",
              "      <td>28.000000</td>\n",
              "      <td>1.178270e+05</td>\n",
              "      <td>9.000000</td>\n",
              "      <td>0.000000</td>\n",
              "      <td>0.000000</td>\n",
              "      <td>40.000000</td>\n",
              "    </tr>\n",
              "    <tr>\n",
              "      <th>50%</th>\n",
              "      <td>37.000000</td>\n",
              "      <td>1.783560e+05</td>\n",
              "      <td>10.000000</td>\n",
              "      <td>0.000000</td>\n",
              "      <td>0.000000</td>\n",
              "      <td>40.000000</td>\n",
              "    </tr>\n",
              "    <tr>\n",
              "      <th>75%</th>\n",
              "      <td>48.000000</td>\n",
              "      <td>2.370510e+05</td>\n",
              "      <td>12.000000</td>\n",
              "      <td>0.000000</td>\n",
              "      <td>0.000000</td>\n",
              "      <td>45.000000</td>\n",
              "    </tr>\n",
              "    <tr>\n",
              "      <th>max</th>\n",
              "      <td>90.000000</td>\n",
              "      <td>1.484705e+06</td>\n",
              "      <td>16.000000</td>\n",
              "      <td>99999.000000</td>\n",
              "      <td>4356.000000</td>\n",
              "      <td>99.000000</td>\n",
              "    </tr>\n",
              "  </tbody>\n",
              "</table>\n",
              "</div>\n",
              "      <button class=\"colab-df-convert\" onclick=\"convertToInteractive('df-8bfa824a-bdd0-4c4c-ab2a-2de877ed1c5a')\"\n",
              "              title=\"Convert this dataframe to an interactive table.\"\n",
              "              style=\"display:none;\">\n",
              "        \n",
              "  <svg xmlns=\"http://www.w3.org/2000/svg\" height=\"24px\"viewBox=\"0 0 24 24\"\n",
              "       width=\"24px\">\n",
              "    <path d=\"M0 0h24v24H0V0z\" fill=\"none\"/>\n",
              "    <path d=\"M18.56 5.44l.94 2.06.94-2.06 2.06-.94-2.06-.94-.94-2.06-.94 2.06-2.06.94zm-11 1L8.5 8.5l.94-2.06 2.06-.94-2.06-.94L8.5 2.5l-.94 2.06-2.06.94zm10 10l.94 2.06.94-2.06 2.06-.94-2.06-.94-.94-2.06-.94 2.06-2.06.94z\"/><path d=\"M17.41 7.96l-1.37-1.37c-.4-.4-.92-.59-1.43-.59-.52 0-1.04.2-1.43.59L10.3 9.45l-7.72 7.72c-.78.78-.78 2.05 0 2.83L4 21.41c.39.39.9.59 1.41.59.51 0 1.02-.2 1.41-.59l7.78-7.78 2.81-2.81c.8-.78.8-2.07 0-2.86zM5.41 20L4 18.59l7.72-7.72 1.47 1.35L5.41 20z\"/>\n",
              "  </svg>\n",
              "      </button>\n",
              "      \n",
              "  <style>\n",
              "    .colab-df-container {\n",
              "      display:flex;\n",
              "      flex-wrap:wrap;\n",
              "      gap: 12px;\n",
              "    }\n",
              "\n",
              "    .colab-df-convert {\n",
              "      background-color: #E8F0FE;\n",
              "      border: none;\n",
              "      border-radius: 50%;\n",
              "      cursor: pointer;\n",
              "      display: none;\n",
              "      fill: #1967D2;\n",
              "      height: 32px;\n",
              "      padding: 0 0 0 0;\n",
              "      width: 32px;\n",
              "    }\n",
              "\n",
              "    .colab-df-convert:hover {\n",
              "      background-color: #E2EBFA;\n",
              "      box-shadow: 0px 1px 2px rgba(60, 64, 67, 0.3), 0px 1px 3px 1px rgba(60, 64, 67, 0.15);\n",
              "      fill: #174EA6;\n",
              "    }\n",
              "\n",
              "    [theme=dark] .colab-df-convert {\n",
              "      background-color: #3B4455;\n",
              "      fill: #D2E3FC;\n",
              "    }\n",
              "\n",
              "    [theme=dark] .colab-df-convert:hover {\n",
              "      background-color: #434B5C;\n",
              "      box-shadow: 0px 1px 3px 1px rgba(0, 0, 0, 0.15);\n",
              "      filter: drop-shadow(0px 1px 2px rgba(0, 0, 0, 0.3));\n",
              "      fill: #FFFFFF;\n",
              "    }\n",
              "  </style>\n",
              "\n",
              "      <script>\n",
              "        const buttonEl =\n",
              "          document.querySelector('#df-8bfa824a-bdd0-4c4c-ab2a-2de877ed1c5a button.colab-df-convert');\n",
              "        buttonEl.style.display =\n",
              "          google.colab.kernel.accessAllowed ? 'block' : 'none';\n",
              "\n",
              "        async function convertToInteractive(key) {\n",
              "          const element = document.querySelector('#df-8bfa824a-bdd0-4c4c-ab2a-2de877ed1c5a');\n",
              "          const dataTable =\n",
              "            await google.colab.kernel.invokeFunction('convertToInteractive',\n",
              "                                                     [key], {});\n",
              "          if (!dataTable) return;\n",
              "\n",
              "          const docLinkHtml = 'Like what you see? Visit the ' +\n",
              "            '<a target=\"_blank\" href=https://colab.research.google.com/notebooks/data_table.ipynb>data table notebook</a>'\n",
              "            + ' to learn more about interactive tables.';\n",
              "          element.innerHTML = '';\n",
              "          dataTable['output_type'] = 'display_data';\n",
              "          await google.colab.output.renderOutput(dataTable, element);\n",
              "          const docLink = document.createElement('div');\n",
              "          docLink.innerHTML = docLinkHtml;\n",
              "          element.appendChild(docLink);\n",
              "        }\n",
              "      </script>\n",
              "    </div>\n",
              "  </div>\n",
              "  "
            ]
          },
          "metadata": {},
          "execution_count": 3
        }
      ],
      "source": [
        "#Medidas de centralidad y desviación para atributos numéricos:\n",
        "data.describe()"
      ]
    },
    {
      "cell_type": "code",
      "execution_count": 4,
      "metadata": {
        "colab": {
          "base_uri": "https://localhost:8080/",
          "height": 143
        },
        "id": "srps1wM281Nq",
        "outputId": "f6b889dc-41ab-4cf2-da2b-563d4e87a67a"
      },
      "outputs": [
        {
          "output_type": "execute_result",
          "data": {
            "text/plain": [
              "    Age Workclass  Fnlwgt Education  Education-num        Maritalstatus  \\\n",
              "0  36.0   Private  123011   HS-grad            9.0   Married-civ-spouse   \n",
              "1   NaN       NaN  164190       NaN            NaN                  NaN   \n",
              "2   NaN       NaN  203488       NaN            NaN                  NaN   \n",
              "\n",
              "        Occupation Relationship    Race    Sex  Capital-gain  Capital-loss  \\\n",
              "0   Prof-specialty      Husband   White   Male           0.0           0.0   \n",
              "1              NaN          NaN     NaN    NaN           NaN           NaN   \n",
              "2              NaN          NaN     NaN    NaN           NaN           NaN   \n",
              "\n",
              "    Hpw         Country       C  \n",
              "0  40.0   United-States   <=50K  \n",
              "1   NaN             NaN     NaN  \n",
              "2   NaN             NaN     NaN  "
            ],
            "text/html": [
              "\n",
              "  <div id=\"df-490c519c-978b-45b4-b223-1a20d5952d90\">\n",
              "    <div class=\"colab-df-container\">\n",
              "      <div>\n",
              "<style scoped>\n",
              "    .dataframe tbody tr th:only-of-type {\n",
              "        vertical-align: middle;\n",
              "    }\n",
              "\n",
              "    .dataframe tbody tr th {\n",
              "        vertical-align: top;\n",
              "    }\n",
              "\n",
              "    .dataframe thead th {\n",
              "        text-align: right;\n",
              "    }\n",
              "</style>\n",
              "<table border=\"1\" class=\"dataframe\">\n",
              "  <thead>\n",
              "    <tr style=\"text-align: right;\">\n",
              "      <th></th>\n",
              "      <th>Age</th>\n",
              "      <th>Workclass</th>\n",
              "      <th>Fnlwgt</th>\n",
              "      <th>Education</th>\n",
              "      <th>Education-num</th>\n",
              "      <th>Maritalstatus</th>\n",
              "      <th>Occupation</th>\n",
              "      <th>Relationship</th>\n",
              "      <th>Race</th>\n",
              "      <th>Sex</th>\n",
              "      <th>Capital-gain</th>\n",
              "      <th>Capital-loss</th>\n",
              "      <th>Hpw</th>\n",
              "      <th>Country</th>\n",
              "      <th>C</th>\n",
              "    </tr>\n",
              "  </thead>\n",
              "  <tbody>\n",
              "    <tr>\n",
              "      <th>0</th>\n",
              "      <td>36.0</td>\n",
              "      <td>Private</td>\n",
              "      <td>123011</td>\n",
              "      <td>HS-grad</td>\n",
              "      <td>9.0</td>\n",
              "      <td>Married-civ-spouse</td>\n",
              "      <td>Prof-specialty</td>\n",
              "      <td>Husband</td>\n",
              "      <td>White</td>\n",
              "      <td>Male</td>\n",
              "      <td>0.0</td>\n",
              "      <td>0.0</td>\n",
              "      <td>40.0</td>\n",
              "      <td>United-States</td>\n",
              "      <td>&lt;=50K</td>\n",
              "    </tr>\n",
              "    <tr>\n",
              "      <th>1</th>\n",
              "      <td>NaN</td>\n",
              "      <td>NaN</td>\n",
              "      <td>164190</td>\n",
              "      <td>NaN</td>\n",
              "      <td>NaN</td>\n",
              "      <td>NaN</td>\n",
              "      <td>NaN</td>\n",
              "      <td>NaN</td>\n",
              "      <td>NaN</td>\n",
              "      <td>NaN</td>\n",
              "      <td>NaN</td>\n",
              "      <td>NaN</td>\n",
              "      <td>NaN</td>\n",
              "      <td>NaN</td>\n",
              "      <td>NaN</td>\n",
              "    </tr>\n",
              "    <tr>\n",
              "      <th>2</th>\n",
              "      <td>NaN</td>\n",
              "      <td>NaN</td>\n",
              "      <td>203488</td>\n",
              "      <td>NaN</td>\n",
              "      <td>NaN</td>\n",
              "      <td>NaN</td>\n",
              "      <td>NaN</td>\n",
              "      <td>NaN</td>\n",
              "      <td>NaN</td>\n",
              "      <td>NaN</td>\n",
              "      <td>NaN</td>\n",
              "      <td>NaN</td>\n",
              "      <td>NaN</td>\n",
              "      <td>NaN</td>\n",
              "      <td>NaN</td>\n",
              "    </tr>\n",
              "  </tbody>\n",
              "</table>\n",
              "</div>\n",
              "      <button class=\"colab-df-convert\" onclick=\"convertToInteractive('df-490c519c-978b-45b4-b223-1a20d5952d90')\"\n",
              "              title=\"Convert this dataframe to an interactive table.\"\n",
              "              style=\"display:none;\">\n",
              "        \n",
              "  <svg xmlns=\"http://www.w3.org/2000/svg\" height=\"24px\"viewBox=\"0 0 24 24\"\n",
              "       width=\"24px\">\n",
              "    <path d=\"M0 0h24v24H0V0z\" fill=\"none\"/>\n",
              "    <path d=\"M18.56 5.44l.94 2.06.94-2.06 2.06-.94-2.06-.94-.94-2.06-.94 2.06-2.06.94zm-11 1L8.5 8.5l.94-2.06 2.06-.94-2.06-.94L8.5 2.5l-.94 2.06-2.06.94zm10 10l.94 2.06.94-2.06 2.06-.94-2.06-.94-.94-2.06-.94 2.06-2.06.94z\"/><path d=\"M17.41 7.96l-1.37-1.37c-.4-.4-.92-.59-1.43-.59-.52 0-1.04.2-1.43.59L10.3 9.45l-7.72 7.72c-.78.78-.78 2.05 0 2.83L4 21.41c.39.39.9.59 1.41.59.51 0 1.02-.2 1.41-.59l7.78-7.78 2.81-2.81c.8-.78.8-2.07 0-2.86zM5.41 20L4 18.59l7.72-7.72 1.47 1.35L5.41 20z\"/>\n",
              "  </svg>\n",
              "      </button>\n",
              "      \n",
              "  <style>\n",
              "    .colab-df-container {\n",
              "      display:flex;\n",
              "      flex-wrap:wrap;\n",
              "      gap: 12px;\n",
              "    }\n",
              "\n",
              "    .colab-df-convert {\n",
              "      background-color: #E8F0FE;\n",
              "      border: none;\n",
              "      border-radius: 50%;\n",
              "      cursor: pointer;\n",
              "      display: none;\n",
              "      fill: #1967D2;\n",
              "      height: 32px;\n",
              "      padding: 0 0 0 0;\n",
              "      width: 32px;\n",
              "    }\n",
              "\n",
              "    .colab-df-convert:hover {\n",
              "      background-color: #E2EBFA;\n",
              "      box-shadow: 0px 1px 2px rgba(60, 64, 67, 0.3), 0px 1px 3px 1px rgba(60, 64, 67, 0.15);\n",
              "      fill: #174EA6;\n",
              "    }\n",
              "\n",
              "    [theme=dark] .colab-df-convert {\n",
              "      background-color: #3B4455;\n",
              "      fill: #D2E3FC;\n",
              "    }\n",
              "\n",
              "    [theme=dark] .colab-df-convert:hover {\n",
              "      background-color: #434B5C;\n",
              "      box-shadow: 0px 1px 3px 1px rgba(0, 0, 0, 0.15);\n",
              "      filter: drop-shadow(0px 1px 2px rgba(0, 0, 0, 0.3));\n",
              "      fill: #FFFFFF;\n",
              "    }\n",
              "  </style>\n",
              "\n",
              "      <script>\n",
              "        const buttonEl =\n",
              "          document.querySelector('#df-490c519c-978b-45b4-b223-1a20d5952d90 button.colab-df-convert');\n",
              "        buttonEl.style.display =\n",
              "          google.colab.kernel.accessAllowed ? 'block' : 'none';\n",
              "\n",
              "        async function convertToInteractive(key) {\n",
              "          const element = document.querySelector('#df-490c519c-978b-45b4-b223-1a20d5952d90');\n",
              "          const dataTable =\n",
              "            await google.colab.kernel.invokeFunction('convertToInteractive',\n",
              "                                                     [key], {});\n",
              "          if (!dataTable) return;\n",
              "\n",
              "          const docLinkHtml = 'Like what you see? Visit the ' +\n",
              "            '<a target=\"_blank\" href=https://colab.research.google.com/notebooks/data_table.ipynb>data table notebook</a>'\n",
              "            + ' to learn more about interactive tables.';\n",
              "          element.innerHTML = '';\n",
              "          dataTable['output_type'] = 'display_data';\n",
              "          await google.colab.output.renderOutput(dataTable, element);\n",
              "          const docLink = document.createElement('div');\n",
              "          docLink.innerHTML = docLinkHtml;\n",
              "          element.appendChild(docLink);\n",
              "        }\n",
              "      </script>\n",
              "    </div>\n",
              "  </div>\n",
              "  "
            ]
          },
          "metadata": {},
          "execution_count": 4
        }
      ],
      "source": [
        "#Medidas de centralidad para atributos categóricos:\n",
        "data.mode()"
      ]
    },
    {
      "cell_type": "markdown",
      "metadata": {
        "id": "0glI5K6I5B3b"
      },
      "source": [
        "**4) Validar datos NaN o Nulls**"
      ]
    },
    {
      "cell_type": "markdown",
      "metadata": {
        "id": "9bt1dWzz9CMl"
      },
      "source": [
        "4.1 Cantidad de Null o NaN por atributos"
      ]
    },
    {
      "cell_type": "code",
      "execution_count": 5,
      "metadata": {
        "colab": {
          "base_uri": "https://localhost:8080/"
        },
        "id": "DnE9fZx79GAP",
        "outputId": "622f2204-8f5e-4d65-f280-2ae3844e6ea2"
      },
      "outputs": [
        {
          "output_type": "execute_result",
          "data": {
            "text/plain": [
              "Age                 0\n",
              "Workclass        1836\n",
              "Fnlwgt              0\n",
              "Education           0\n",
              "Education-num       0\n",
              "Maritalstatus       0\n",
              "Occupation       1843\n",
              "Relationship        0\n",
              "Race                0\n",
              "Sex                 0\n",
              "Capital-gain        0\n",
              "Capital-loss        0\n",
              "Hpw                 0\n",
              "Country           583\n",
              "C                   0\n",
              "dtype: int64"
            ]
          },
          "metadata": {},
          "execution_count": 5
        }
      ],
      "source": [
        "data.isnull().sum()"
      ]
    },
    {
      "cell_type": "code",
      "execution_count": 6,
      "metadata": {
        "colab": {
          "base_uri": "https://localhost:8080/"
        },
        "id": "XyJiZE1x9Luk",
        "outputId": "cb4d2bc4-2e31-4d16-f72e-8d760e57268b"
      },
      "outputs": [
        {
          "output_type": "execute_result",
          "data": {
            "text/plain": [
              "Age              0.000000\n",
              "Workclass        5.638647\n",
              "Fnlwgt           0.000000\n",
              "Education        0.000000\n",
              "Education-num    0.000000\n",
              "Maritalstatus    0.000000\n",
              "Occupation       5.660146\n",
              "Relationship     0.000000\n",
              "Race             0.000000\n",
              "Sex              0.000000\n",
              "Capital-gain     0.000000\n",
              "Capital-loss     0.000000\n",
              "Hpw              0.000000\n",
              "Country          1.790486\n",
              "C                0.000000\n",
              "dtype: float64"
            ]
          },
          "metadata": {},
          "execution_count": 6
        }
      ],
      "source": [
        "(data.isnull().sum()/len(data))*100"
      ]
    },
    {
      "cell_type": "markdown",
      "metadata": {
        "id": "9onlhgOo9HuN"
      },
      "source": [
        "Como se logra ver, aunque hay datos faltantes estos representan entre el 2 y 6 % de los datos. Lo que podría implicar que al eliminarlos no afectaría tanto la base. Pero tendríamos que analizar que tanta influencia tienen los atributos en la etiqueta"
      ]
    },
    {
      "cell_type": "markdown",
      "metadata": {
        "id": "VZE7w68T9Pi_"
      },
      "source": [
        "4.2 Cantidad Null o NaN por registros"
      ]
    },
    {
      "cell_type": "code",
      "execution_count": 7,
      "metadata": {
        "colab": {
          "base_uri": "https://localhost:8080/"
        },
        "id": "29qgiGqr9TpJ",
        "outputId": "b4c0390e-4117-4d80-bd8e-7d6824455c05"
      },
      "outputs": [
        {
          "output_type": "stream",
          "name": "stdout",
          "text": [
            "Cantidad máxima faltante por registros: 3\n"
          ]
        }
      ],
      "source": [
        "print('Cantidad máxima faltante por registros:',max(data.isnull().sum(axis=1)))"
      ]
    },
    {
      "cell_type": "code",
      "execution_count": 8,
      "metadata": {
        "colab": {
          "base_uri": "https://localhost:8080/"
        },
        "id": "EoiRz0SN9WeC",
        "outputId": "b70a1e78-98d8-4275-bac2-cf38c2e95fab"
      },
      "outputs": [
        {
          "output_type": "stream",
          "name": "stdout",
          "text": [
            " Cantidad de registros con datos faltantes : 2399\n",
            "Porcentaje 7.37 %\n",
            " Cantidad de registros con 3 datos faltantes : 27\n",
            "Porcentaje 0.08 %\n",
            " Cantidad de registros con 2 datos faltantes : 1809\n",
            "Porcentaje 5.56 %\n",
            " Cantidad de registros con 1 dato faltante : 563\n",
            "Porcentaje 1.73 %\n",
            "32561\n"
          ]
        }
      ],
      "source": [
        "print(' Cantidad de registros con datos faltantes :',len(data[data.isnull().any(1)]))\n",
        "print('Porcentaje',round((len(data[data.isnull().any(1)])/ len(data))*100,2),'%')\n",
        "\n",
        "tres = data [(data.Workclass.isnull() & data.Occupation.isnull() & data.Country.isnull())] # 27\n",
        "print(' Cantidad de registros con 3 datos faltantes :',len(tres))\n",
        "print('Porcentaje',round(((len(tres)/ len(data))*100),2),'%')\n",
        "\n",
        "\n",
        "faltantes1 = data [(data.Workclass.isnull() & data.Occupation.isnull() & data.Country.notnull()) ] # 1809\n",
        "#faltantes2 = data [(data.Workclass.isnull() & data.Country.isnull() & data.Occupation.notnull())] DA CERO\n",
        "#faltantes3 = data [(data.Occupation.isnull() & data.Country.isnull() &  data.Workclass.notnull())] DA CERO\n",
        "dos = len(faltantes1)\n",
        "print(' Cantidad de registros con 2 datos faltantes :',dos)\n",
        "print('Porcentaje',round(((dos/ len(data))*100),2),'%')\n",
        "\n",
        "\n",
        "\n",
        "#faltantes4 = data [(data.Workclass.isnull() & data.Occupation.notnull() & data.Country.notnull()) ] DA CERO\n",
        "faltantes5 = data [(data.Workclass.notnull() & data.Country.isnull() & data.Occupation.notnull())] #556\n",
        "faltantes6 = data [(data.Occupation.isnull() & data.Country.notnull() &  data.Workclass.notnull())] # 7\n",
        "uno = len(faltantes5)+len(faltantes6)\n",
        "print(' Cantidad de registros con 1 dato faltante :',uno)\n",
        "print('Porcentaje',round((uno/ len(data))*100,2),'%')\n",
        "print(len(data))"
      ]
    },
    {
      "cell_type": "markdown",
      "metadata": {
        "id": "SMOzlY2p9cpc"
      },
      "source": [
        "Dado los resultados obtenidos, optamos por eliminar todos los datos NaN, debido a que el 7 % es muy mínimo y no afectará en el estudio"
      ]
    },
    {
      "cell_type": "code",
      "execution_count": 9,
      "metadata": {
        "colab": {
          "base_uri": "https://localhost:8080/"
        },
        "id": "tpKwFPlJ9dY8",
        "outputId": "040fecff-4131-436f-978e-57db8ceddfba"
      },
      "outputs": [
        {
          "output_type": "execute_result",
          "data": {
            "text/plain": [
              "(30162, 15)"
            ]
          },
          "metadata": {},
          "execution_count": 9
        }
      ],
      "source": [
        "data = data.drop(index= data[data.isnull().any(1)].index)\n",
        "data.shape"
      ]
    },
    {
      "cell_type": "markdown",
      "metadata": {
        "id": "hlLNOUCa5OnS"
      },
      "source": [
        "**6) Validar datos atípicos**"
      ]
    },
    {
      "cell_type": "markdown",
      "metadata": {
        "id": "3gDWT8IqPOmw"
      },
      "source": [
        "6.1 Datos Atípicos por atributos numéricos"
      ]
    },
    {
      "cell_type": "code",
      "execution_count": 10,
      "metadata": {
        "colab": {
          "base_uri": "https://localhost:8080/"
        },
        "id": "cuC43Yz09rXi",
        "outputId": "6a4c0eef-69f1-4ef9-8487-8c32c11495b1"
      },
      "outputs": [
        {
          "output_type": "stream",
          "name": "stdout",
          "text": [
            " La cantidad de datos atípicos en  Age son 169  con un porcentaje del 0.56\n",
            " La cantidad de datos atípicos en  Workclass son 903  con un porcentaje del 2.99\n",
            " La cantidad de datos atípicos en  Fnlwgt son 196  con un porcentaje del 0.65\n",
            " La cantidad de datos atípicos en  Education son 2538  con un porcentaje del 8.41\n",
            " La cantidad de datos atípicos en  Education-num son 1427  con un porcentaje del 4.73\n",
            " La cantidad de datos atípicos en  Maritalstatus son 7953  con un porcentaje del 26.37\n"
          ]
        }
      ],
      "source": [
        "# Encontramos el Q1, Q3, y el rango intercuartílico para cada columna\n",
        "lista=[]\n",
        "indices = []\n",
        "numericas=['Age','Fnlwgt','Education-num','Capital-gain','Capital-loss','Hpw']\n",
        "\n",
        "for i in numericas:\n",
        "    Q3, Q1 = np. percentile (data[i], [75, 25])\n",
        "    IQR = Q3 - Q1\n",
        "    lim_inf = Q1 - 1.5*IQR\n",
        "    lim_sup = Q3 + 1.5*IQR\n",
        "    lista.append(len(data[(data[i]< lim_inf) | (data[i] >lim_sup)]))\n",
        "    indices.append(data[(data[i]< lim_inf) | (data[i] >lim_sup)].index)\n",
        "\n",
        "for i in range (6):\n",
        "   print(\" La cantidad de datos atípicos en \",data.columns[i],\"son\",lista[i],\" con un porcentaje del\",round((lista[i]/len(data))*100,2))"
      ]
    },
    {
      "cell_type": "markdown",
      "metadata": {
        "id": "lZs9bxnNPSee"
      },
      "source": [
        "6.2 Datos atípicos por registros"
      ]
    },
    {
      "cell_type": "code",
      "execution_count": 11,
      "metadata": {
        "colab": {
          "base_uri": "https://localhost:8080/"
        },
        "id": "YcbfKYDxPGJN",
        "outputId": "2812888b-ace6-415d-896e-2d11fa10bdd4"
      },
      "outputs": [
        {
          "output_type": "stream",
          "name": "stdout",
          "text": [
            "Hay  1366 registros que tienen 2 datos atípicos\n",
            "Porcentaje:  4.53 %\n",
            "Hay  57 registros que tienen 3 datos atípicos\n",
            "Porcentaje:  0.19 %\n",
            "Si eliminamos de 2 y 3 datos atípicos representa un 4.72 %\n",
            "Que serían: 1423 datos\n"
          ]
        }
      ],
      "source": [
        "import itertools\n",
        "lista = list(itertools.chain(*indices))\n",
        "lista.sort()\n",
        "cantidad =list(map(lambda x: lista.count(x),lista))\n",
        "lista2=[]\n",
        "lista3=[]\n",
        "\n",
        "for i in range(len(cantidad)):\n",
        "  if cantidad[i] == 2:\n",
        "    lista2.append(lista[i])\n",
        "  if cantidad[i]== 3:\n",
        "    lista3.append(lista[i])\n",
        "\n",
        "print(\"Hay \",len(pd.unique(lista2)),\"registros que tienen 2 datos atípicos\")\n",
        "print(\"Porcentaje: \",round((len(pd.unique(lista2))/len(data))*100,2),\"%\")\n",
        "print(\"Hay \",len(pd.unique(lista3)),\"registros que tienen 3 datos atípicos\")\n",
        "print(\"Porcentaje: \",round((len(pd.unique(lista3))/len(data))*100,2),\"%\")\n",
        "print(\"Si eliminamos de 2 y 3 datos atípicos representa un\", round(((len(pd.unique(lista3))+ len(pd.unique(lista2)))/len(data))*100,2),\"%\")\n",
        "lista2.extend(lista3)\n",
        "lista2 = pd.unique(lista2)\n",
        "print(\"Que serían:\",len(lista2),\"datos\")\n",
        "\n"
      ]
    },
    {
      "cell_type": "code",
      "execution_count": 12,
      "metadata": {
        "colab": {
          "base_uri": "https://localhost:8080/"
        },
        "id": "Xtp0i_u6mOLU",
        "outputId": "28471b34-6f0c-4ea1-b166-5962d2a4c2cf"
      },
      "outputs": [
        {
          "output_type": "execute_result",
          "data": {
            "text/plain": [
              "(28739, 15)"
            ]
          },
          "metadata": {},
          "execution_count": 12
        }
      ],
      "source": [
        "atipicos = data.drop(lista2, axis=0, inplace=False)\n",
        "atipicos.shape"
      ]
    },
    {
      "cell_type": "code",
      "execution_count": 13,
      "metadata": {
        "colab": {
          "base_uri": "https://localhost:8080/",
          "height": 874
        },
        "id": "8G2ksPrX9k_S",
        "outputId": "df372830-1cba-48e0-dcf6-da64cea8ac8a"
      },
      "outputs": [
        {
          "output_type": "display_data",
          "data": {
            "text/plain": [
              "<Figure size 1080x1080 with 6 Axes>"
            ],
            "image/png": "[encoded data removed]"
          },
          "metadata": {
            "needs_background": "light"
          }
        }
      ],
      "source": [
        "#Diagrama de cajas y bigotes para atributos numéricos\n",
        "fig, axes = plt.subplots(3,2,figsize=(15,15))\n",
        "numericas=['Age','Fnlwgt','Education-num','Capital-gain','Capital-loss','Hpw']\n",
        "y = 0\n",
        "\n",
        "for i in numericas:\n",
        "    a = data.boxplot(i,ax=axes.flatten()[y])\n",
        "    y += 1\n",
        "plt.show()"
      ]
    },
    {
      "cell_type": "markdown",
      "metadata": {
        "id": "47iTbLTM5H3k"
      },
      "source": [
        "**6) Normalización de Datos**"
      ]
    },
    {
      "cell_type": "markdown",
      "metadata": {
        "id": "Of4h1Zue-BAJ"
      },
      "source": [
        "6.1 Normalización atributos numéricos"
      ]
    },
    {
      "cell_type": "code",
      "execution_count": 14,
      "metadata": {
        "id": "_-BIJ2D5_2JO"
      },
      "outputs": [],
      "source": [
        "def numericas (base):\n",
        "  numericas=['Age','Fnlwgt','Education-num','Capital-gain','Capital-loss','Hpw']\n",
        "\n",
        "  from sklearn.preprocessing import StandardScaler\n",
        "  standard_scaler = StandardScaler()\n",
        "  for i in numericas:\n",
        "    l_values = base[[i]]\n",
        "    scaled_values = standard_scaler.fit(l_values)\n",
        "    base[[i]] = standard_scaler.transform(l_values)\n",
        "\n",
        "numericas(data)\n",
        "numericas(atipicos)"
      ]
    },
    {
      "cell_type": "markdown",
      "metadata": {
        "id": "Ph7AhJ4--EJ5"
      },
      "source": [
        "6.2 Normalización atributos categóricos"
      ]
    },
    {
      "cell_type": "code",
      "execution_count": 15,
      "metadata": {
        "colab": {
          "base_uri": "https://localhost:8080/"
        },
        "id": "Zr--_6NG-_ZN",
        "outputId": "58f66c76-9250-4867-d0c9-1c3ba3657d3f"
      },
      "outputs": [
        {
          "output_type": "stream",
          "name": "stdout",
          "text": [
            "(30162, 106)\n",
            "(28739, 106)\n"
          ]
        }
      ],
      "source": [
        "data = pd.get_dummies(data)\n",
        "atipicos = pd.get_dummies(atipicos) #oneHotEncoding en Pandas\n",
        "print(data.shape)\n",
        "print(atipicos.shape)"
      ]
    },
    {
      "cell_type": "code",
      "execution_count": 16,
      "metadata": {
        "colab": {
          "base_uri": "https://localhost:8080/",
          "height": 515
        },
        "id": "0aLWFaFOdYA6",
        "outputId": "8cb322f7-a1ed-40ae-d21f-9134090888bf"
      },
      "outputs": [
        {
          "output_type": "execute_result",
          "data": {
            "text/plain": [
              "                Age        Fnlwgt  Education-num  Capital-gain  Capital-loss  \\\n",
              "count  3.016200e+04  3.016200e+04   3.016200e+04  3.016200e+04  3.016200e+04   \n",
              "mean   1.535952e-16  1.684365e-17  -3.053058e-16 -2.720897e-17  7.703318e-17   \n",
              "std    1.000017e+00  1.000017e+00   1.000017e+00  1.000017e+00  1.000017e+00   \n",
              "min   -1.632189e+00 -1.666094e+00  -3.577051e+00 -1.474446e-01 -2.185860e-01   \n",
              "25%   -7.946967e-01 -6.830644e-01  -4.397382e-01 -1.474446e-01 -2.185860e-01   \n",
              "50%   -1.094756e-01 -1.076072e-01  -4.757405e-02 -1.474446e-01 -2.185860e-01   \n",
              "75%    6.518811e-01  4.527602e-01   1.128918e+00 -1.474446e-01 -2.185860e-01   \n",
              "max    3.925715e+00  1.225647e+01   2.305411e+00  1.335458e+01  1.055581e+01   \n",
              "\n",
              "                Hpw  Workclass_ Federal-gov  Workclass_ Local-gov  \\\n",
              "count  3.016200e+04            30162.000000          30162.000000   \n",
              "mean  -2.833973e-16                0.031265              0.068530   \n",
              "std    1.000017e+00                0.174035              0.252657   \n",
              "min   -3.333218e+00                0.000000              0.000000   \n",
              "25%   -7.773411e-02                0.000000              0.000000   \n",
              "50%   -7.773411e-02                0.000000              0.000000   \n",
              "75%    3.396356e-01                0.000000              0.000000   \n",
              "max    4.847229e+00                1.000000              1.000000   \n",
              "\n",
              "       Workclass_ Private  Workclass_ Self-emp-inc  ...  Country_ Scotland  \\\n",
              "count        30162.000000             30162.000000  ...       30162.000000   \n",
              "mean             0.738877                 0.035608  ...           0.000365   \n",
              "std              0.439254                 0.185313  ...           0.019094   \n",
              "min              0.000000                 0.000000  ...           0.000000   \n",
              "25%              0.000000                 0.000000  ...           0.000000   \n",
              "50%              1.000000                 0.000000  ...           0.000000   \n",
              "75%              1.000000                 0.000000  ...           0.000000   \n",
              "max              1.000000                 1.000000  ...           1.000000   \n",
              "\n",
              "       Country_ South  Country_ Taiwan  Country_ Thailand  \\\n",
              "count    30162.000000     30162.000000       30162.000000   \n",
              "mean         0.002354         0.001392           0.000564   \n",
              "std          0.048461         0.037291           0.023734   \n",
              "min          0.000000         0.000000           0.000000   \n",
              "25%          0.000000         0.000000           0.000000   \n",
              "50%          0.000000         0.000000           0.000000   \n",
              "75%          0.000000         0.000000           0.000000   \n",
              "max          1.000000         1.000000           1.000000   \n",
              "\n",
              "       Country_ Trinadad&Tobago  Country_ United-States  Country_ Vietnam  \\\n",
              "count              30162.000000            30162.000000      30162.000000   \n",
              "mean                   0.000597                0.911876          0.002122   \n",
              "std                    0.024422                0.283480          0.046016   \n",
              "min                    0.000000                0.000000          0.000000   \n",
              "25%                    0.000000                1.000000          0.000000   \n",
              "50%                    0.000000                1.000000          0.000000   \n",
              "75%                    0.000000                1.000000          0.000000   \n",
              "max                    1.000000                1.000000          1.000000   \n",
              "\n",
              "       Country_ Yugoslavia      C_ <=50K       C_ >50K  \n",
              "count         30162.000000  30162.000000  30162.000000  \n",
              "mean              0.000530      0.751078      0.248922  \n",
              "std               0.023026      0.432396      0.432396  \n",
              "min               0.000000      0.000000      0.000000  \n",
              "25%               0.000000      1.000000      0.000000  \n",
              "50%               0.000000      1.000000      0.000000  \n",
              "75%               0.000000      1.000000      0.000000  \n",
              "max               1.000000      1.000000      1.000000  \n",
              "\n",
              "[8 rows x 106 columns]"
            ],
            "text/html": [
              "\n",
              "  <div id=\"df-308fd4cc-b56a-4aa8-b871-af3da1743b84\">\n",
              "    <div class=\"colab-df-container\">\n",
              "      <div>\n",
              "<style scoped>\n",
              "    .dataframe tbody tr th:only-of-type {\n",
              "        vertical-align: middle;\n",
              "    }\n",
              "\n",
              "    .dataframe tbody tr th {\n",
              "        vertical-align: top;\n",
              "    }\n",
              "\n",
              "    .dataframe thead th {\n",
              "        text-align: right;\n",
              "    }\n",
              "</style>\n",
              "<table border=\"1\" class=\"dataframe\">\n",
              "  <thead>\n",
              "    <tr style=\"text-align: right;\">\n",
              "      <th></th>\n",
              "      <th>Age</th>\n",
              "      <th>Fnlwgt</th>\n",
              "      <th>Education-num</th>\n",
              "      <th>Capital-gain</th>\n",
              "      <th>Capital-loss</th>\n",
              "      <th>Hpw</th>\n",
              "      <th>Workclass_ Federal-gov</th>\n",
              "      <th>Workclass_ Local-gov</th>\n",
              "      <th>Workclass_ Private</th>\n",
              "      <th>Workclass_ Self-emp-inc</th>\n",
              "      <th>...</th>\n",
              "      <th>Country_ Scotland</th>\n",
              "      <th>Country_ South</th>\n",
              "      <th>Country_ Taiwan</th>\n",
              "      <th>Country_ Thailand</th>\n",
              "      <th>Country_ Trinadad&amp;Tobago</th>\n",
              "      <th>Country_ United-States</th>\n",
              "      <th>Country_ Vietnam</th>\n",
              "      <th>Country_ Yugoslavia</th>\n",
              "      <th>C_ &lt;=50K</th>\n",
              "      <th>C_ &gt;50K</th>\n",
              "    </tr>\n",
              "  </thead>\n",
              "  <tbody>\n",
              "    <tr>\n",
              "      <th>count</th>\n",
              "      <td>3.016200e+04</td>\n",
              "      <td>3.016200e+04</td>\n",
              "      <td>3.016200e+04</td>\n",
              "      <td>3.016200e+04</td>\n",
              "      <td>3.016200e+04</td>\n",
              "      <td>3.016200e+04</td>\n",
              "      <td>30162.000000</td>\n",
              "      <td>30162.000000</td>\n",
              "      <td>30162.000000</td>\n",
              "      <td>30162.000000</td>\n",
              "      <td>...</td>\n",
              "      <td>30162.000000</td>\n",
              "      <td>30162.000000</td>\n",
              "      <td>30162.000000</td>\n",
              "      <td>30162.000000</td>\n",
              "      <td>30162.000000</td>\n",
              "      <td>30162.000000</td>\n",
              "      <td>30162.000000</td>\n",
              "      <td>30162.000000</td>\n",
              "      <td>30162.000000</td>\n",
              "      <td>30162.000000</td>\n",
              "    </tr>\n",
              "    <tr>\n",
              "      <th>mean</th>\n",
              "      <td>1.535952e-16</td>\n",
              "      <td>1.684365e-17</td>\n",
              "      <td>-3.053058e-16</td>\n",
              "      <td>-2.720897e-17</td>\n",
              "      <td>7.703318e-17</td>\n",
              "      <td>-2.833973e-16</td>\n",
              "      <td>0.031265</td>\n",
              "      <td>0.068530</td>\n",
              "      <td>0.738877</td>\n",
              "      <td>0.035608</td>\n",
              "      <td>...</td>\n",
              "      <td>0.000365</td>\n",
              "      <td>0.002354</td>\n",
              "      <td>0.001392</td>\n",
              "      <td>0.000564</td>\n",
              "      <td>0.000597</td>\n",
              "      <td>0.911876</td>\n",
              "      <td>0.002122</td>\n",
              "      <td>0.000530</td>\n",
              "      <td>0.751078</td>\n",
              "      <td>0.248922</td>\n",
              "    </tr>\n",
              "    <tr>\n",
              "      <th>std</th>\n",
              "      <td>1.000017e+00</td>\n",
              "      <td>1.000017e+00</td>\n",
              "      <td>1.000017e+00</td>\n",
              "      <td>1.000017e+00</td>\n",
              "      <td>1.000017e+00</td>\n",
              "      <td>1.000017e+00</td>\n",
              "      <td>0.174035</td>\n",
              "      <td>0.252657</td>\n",
              "      <td>0.439254</td>\n",
              "      <td>0.185313</td>\n",
              "      <td>...</td>\n",
              "      <td>0.019094</td>\n",
              "      <td>0.048461</td>\n",
              "      <td>0.037291</td>\n",
              "      <td>0.023734</td>\n",
              "      <td>0.024422</td>\n",
              "      <td>0.283480</td>\n",
              "      <td>0.046016</td>\n",
              "      <td>0.023026</td>\n",
              "      <td>0.432396</td>\n",
              "      <td>0.432396</td>\n",
              "    </tr>\n",
              "    <tr>\n",
              "      <th>min</th>\n",
              "      <td>-1.632189e+00</td>\n",
              "      <td>-1.666094e+00</td>\n",
              "      <td>-3.577051e+00</td>\n",
              "      <td>-1.474446e-01</td>\n",
              "      <td>-2.185860e-01</td>\n",
              "      <td>-3.333218e+00</td>\n",
              "      <td>0.000000</td>\n",
              "      <td>0.000000</td>\n",
              "      <td>0.000000</td>\n",
              "      <td>0.000000</td>\n",
              "      <td>...</td>\n",
              "      <td>0.000000</td>\n",
              "      <td>0.000000</td>\n",
              "      <td>0.000000</td>\n",
              "      <td>0.000000</td>\n",
              "      <td>0.000000</td>\n",
              "      <td>0.000000</td>\n",
              "      <td>0.000000</td>\n",
              "      <td>0.000000</td>\n",
              "      <td>0.000000</td>\n",
              "      <td>0.000000</td>\n",
              "    </tr>\n",
              "    <tr>\n",
              "      <th>25%</th>\n",
              "      <td>-7.946967e-01</td>\n",
              "      <td>-6.830644e-01</td>\n",
              "      <td>-4.397382e-01</td>\n",
              "      <td>-1.474446e-01</td>\n",
              "      <td>-2.185860e-01</td>\n",
              "      <td>-7.773411e-02</td>\n",
              "      <td>0.000000</td>\n",
              "      <td>0.000000</td>\n",
              "      <td>0.000000</td>\n",
              "      <td>0.000000</td>\n",
              "      <td>...</td>\n",
              "      <td>0.000000</td>\n",
              "      <td>0.000000</td>\n",
              "      <td>0.000000</td>\n",
              "      <td>0.000000</td>\n",
              "      <td>0.000000</td>\n",
              "      <td>1.000000</td>\n",
              "      <td>0.000000</td>\n",
              "      <td>0.000000</td>\n",
              "      <td>1.000000</td>\n",
              "      <td>0.000000</td>\n",
              "    </tr>\n",
              "    <tr>\n",
              "      <th>50%</th>\n",
              "      <td>-1.094756e-01</td>\n",
              "      <td>-1.076072e-01</td>\n",
              "      <td>-4.757405e-02</td>\n",
              "      <td>-1.474446e-01</td>\n",
              "      <td>-2.185860e-01</td>\n",
              "      <td>-7.773411e-02</td>\n",
              "      <td>0.000000</td>\n",
              "      <td>0.000000</td>\n",
              "      <td>1.000000</td>\n",
              "      <td>0.000000</td>\n",
              "      <td>...</td>\n",
              "      <td>0.000000</td>\n",
              "      <td>0.000000</td>\n",
              "      <td>0.000000</td>\n",
              "      <td>0.000000</td>\n",
              "      <td>0.000000</td>\n",
              "      <td>1.000000</td>\n",
              "      <td>0.000000</td>\n",
              "      <td>0.000000</td>\n",
              "      <td>1.000000</td>\n",
              "      <td>0.000000</td>\n",
              "    </tr>\n",
              "    <tr>\n",
              "      <th>75%</th>\n",
              "      <td>6.518811e-01</td>\n",
              "      <td>4.527602e-01</td>\n",
              "      <td>1.128918e+00</td>\n",
              "      <td>-1.474446e-01</td>\n",
              "      <td>-2.185860e-01</td>\n",
              "      <td>3.396356e-01</td>\n",
              "      <td>0.000000</td>\n",
              "      <td>0.000000</td>\n",
              "      <td>1.000000</td>\n",
              "      <td>0.000000</td>\n",
              "      <td>...</td>\n",
              "      <td>0.000000</td>\n",
              "      <td>0.000000</td>\n",
              "      <td>0.000000</td>\n",
              "      <td>0.000000</td>\n",
              "      <td>0.000000</td>\n",
              "      <td>1.000000</td>\n",
              "      <td>0.000000</td>\n",
              "      <td>0.000000</td>\n",
              "      <td>1.000000</td>\n",
              "      <td>0.000000</td>\n",
              "    </tr>\n",
              "    <tr>\n",
              "      <th>max</th>\n",
              "      <td>3.925715e+00</td>\n",
              "      <td>1.225647e+01</td>\n",
              "      <td>2.305411e+00</td>\n",
              "      <td>1.335458e+01</td>\n",
              "      <td>1.055581e+01</td>\n",
              "      <td>4.847229e+00</td>\n",
              "      <td>1.000000</td>\n",
              "      <td>1.000000</td>\n",
              "      <td>1.000000</td>\n",
              "      <td>1.000000</td>\n",
              "      <td>...</td>\n",
              "      <td>1.000000</td>\n",
              "      <td>1.000000</td>\n",
              "      <td>1.000000</td>\n",
              "      <td>1.000000</td>\n",
              "      <td>1.000000</td>\n",
              "      <td>1.000000</td>\n",
              "      <td>1.000000</td>\n",
              "      <td>1.000000</td>\n",
              "      <td>1.000000</td>\n",
              "      <td>1.000000</td>\n",
              "    </tr>\n",
              "  </tbody>\n",
              "</table>\n",
              "<p>8 rows × 106 columns</p>\n",
              "</div>\n",
              "      <button class=\"colab-df-convert\" onclick=\"convertToInteractive('df-308fd4cc-b56a-4aa8-b871-af3da1743b84')\"\n",
              "              title=\"Convert this dataframe to an interactive table.\"\n",
              "              style=\"display:none;\">\n",
              "        \n",
              "  <svg xmlns=\"http://www.w3.org/2000/svg\" height=\"24px\"viewBox=\"0 0 24 24\"\n",
              "       width=\"24px\">\n",
              "    <path d=\"M0 0h24v24H0V0z\" fill=\"none\"/>\n",
              "    <path d=\"M18.56 5.44l.94 2.06.94-2.06 2.06-.94-2.06-.94-.94-2.06-.94 2.06-2.06.94zm-11 1L8.5 8.5l.94-2.06 2.06-.94-2.06-.94L8.5 2.5l-.94 2.06-2.06.94zm10 10l.94 2.06.94-2.06 2.06-.94-2.06-.94-.94-2.06-.94 2.06-2.06.94z\"/><path d=\"M17.41 7.96l-1.37-1.37c-.4-.4-.92-.59-1.43-.59-.52 0-1.04.2-1.43.59L10.3 9.45l-7.72 7.72c-.78.78-.78 2.05 0 2.83L4 21.41c.39.39.9.59 1.41.59.51 0 1.02-.2 1.41-.59l7.78-7.78 2.81-2.81c.8-.78.8-2.07 0-2.86zM5.41 20L4 18.59l7.72-7.72 1.47 1.35L5.41 20z\"/>\n",
              "  </svg>\n",
              "      </button>\n",
              "      \n",
              "  <style>\n",
              "    .colab-df-container {\n",
              "      display:flex;\n",
              "      flex-wrap:wrap;\n",
              "      gap: 12px;\n",
              "    }\n",
              "\n",
              "    .colab-df-convert {\n",
              "      background-color: #E8F0FE;\n",
              "      border: none;\n",
              "      border-radius: 50%;\n",
              "      cursor: pointer;\n",
              "      display: none;\n",
              "      fill: #1967D2;\n",
              "      height: 32px;\n",
              "      padding: 0 0 0 0;\n",
              "      width: 32px;\n",
              "    }\n",
              "\n",
              "    .colab-df-convert:hover {\n",
              "      background-color: #E2EBFA;\n",
              "      box-shadow: 0px 1px 2px rgba(60, 64, 67, 0.3), 0px 1px 3px 1px rgba(60, 64, 67, 0.15);\n",
              "      fill: #174EA6;\n",
              "    }\n",
              "\n",
              "    [theme=dark] .colab-df-convert {\n",
              "      background-color: #3B4455;\n",
              "      fill: #D2E3FC;\n",
              "    }\n",
              "\n",
              "    [theme=dark] .colab-df-convert:hover {\n",
              "      background-color: #434B5C;\n",
              "      box-shadow: 0px 1px 3px 1px rgba(0, 0, 0, 0.15);\n",
              "      filter: drop-shadow(0px 1px 2px rgba(0, 0, 0, 0.3));\n",
              "      fill: #FFFFFF;\n",
              "    }\n",
              "  </style>\n",
              "\n",
              "      <script>\n",
              "        const buttonEl =\n",
              "          document.querySelector('#df-308fd4cc-b56a-4aa8-b871-af3da1743b84 button.colab-df-convert');\n",
              "        buttonEl.style.display =\n",
              "          google.colab.kernel.accessAllowed ? 'block' : 'none';\n",
              "\n",
              "        async function convertToInteractive(key) {\n",
              "          const element = document.querySelector('#df-308fd4cc-b56a-4aa8-b871-af3da1743b84');\n",
              "          const dataTable =\n",
              "            await google.colab.kernel.invokeFunction('convertToInteractive',\n",
              "                                                     [key], {});\n",
              "          if (!dataTable) return;\n",
              "\n",
              "          const docLinkHtml = 'Like what you see? Visit the ' +\n",
              "            '<a target=\"_blank\" href=https://colab.research.google.com/notebooks/data_table.ipynb>data table notebook</a>'\n",
              "            + ' to learn more about interactive tables.';\n",
              "          element.innerHTML = '';\n",
              "          dataTable['output_type'] = 'display_data';\n",
              "          await google.colab.output.renderOutput(dataTable, element);\n",
              "          const docLink = document.createElement('div');\n",
              "          docLink.innerHTML = docLinkHtml;\n",
              "          element.appendChild(docLink);\n",
              "        }\n",
              "      </script>\n",
              "    </div>\n",
              "  </div>\n",
              "  "
            ]
          },
          "metadata": {},
          "execution_count": 16
        }
      ],
      "source": [
        "#Medidas de centralidad y desviación para atributos numéricos:\n",
        "data.describe()"
      ]
    },
    {
      "cell_type": "markdown",
      "metadata": {
        "id": "_3gimAnT5RY6"
      },
      "source": [
        "**7) Validar el balanceo de la base**"
      ]
    },
    {
      "cell_type": "code",
      "execution_count": 17,
      "metadata": {
        "colab": {
          "base_uri": "https://localhost:8080/"
        },
        "id": "VI-j89jK90y2",
        "outputId": "6f1847d1-f79a-4d9e-e754-e692d999e253"
      },
      "outputs": [
        {
          "output_type": "stream",
          "name": "stdout",
          "text": [
            "1    22654\n",
            "0     7508\n",
            "Name: C_ <=50K, dtype: int64\n"
          ]
        }
      ],
      "source": [
        "print(data['C_ <=50K'].value_counts())"
      ]
    },
    {
      "cell_type": "code",
      "execution_count": 18,
      "metadata": {
        "colab": {
          "base_uri": "https://localhost:8080/"
        },
        "id": "25XkVFYvzrX_",
        "outputId": "9ee467d4-d295-4414-b7d1-7848495959eb"
      },
      "outputs": [
        {
          "output_type": "stream",
          "name": "stdout",
          "text": [
            "1    21896\n",
            "0     6843\n",
            "Name: C_ <=50K, dtype: int64\n"
          ]
        }
      ],
      "source": [
        "print(atipicos['C_ <=50K'].value_counts())"
      ]
    },
    {
      "cell_type": "markdown",
      "metadata": {
        "id": "2hoCndktpffd"
      },
      "source": [
        "Aquí se ve que la base se encuentra **desbalanceada**"
      ]
    },
    {
      "cell_type": "markdown",
      "metadata": {
        "id": "XkwOlIf092hT"
      },
      "source": [
        "7.1 Base con sub-muestreo"
      ]
    },
    {
      "cell_type": "code",
      "execution_count": 19,
      "metadata": {
        "colab": {
          "base_uri": "https://localhost:8080/"
        },
        "id": "7Qms_ussg9EM",
        "outputId": "4224175b-820e-437e-dc55-03f53524fd11"
      },
      "outputs": [
        {
          "output_type": "stream",
          "name": "stdout",
          "text": [
            "0    7508\n",
            "1    7508\n",
            "Name: C_ <=50K, dtype: int64\n"
          ]
        }
      ],
      "source": [
        "df_true = data[data['C_ <=50K'] == 1]\n",
        "df_false = data[data['C_ <=50K'] == 0]\n",
        "data_muestreo = pd.concat([df_false, df_true.sample(df_false.shape[0])])\n",
        "print(data_muestreo['C_ <=50K'].value_counts())"
      ]
    },
    {
      "cell_type": "code",
      "execution_count": 20,
      "metadata": {
        "colab": {
          "base_uri": "https://localhost:8080/"
        },
        "id": "rnPLrftizvmr",
        "outputId": "86a5d4d6-9f0e-47d0-e03e-d66a6125efb8"
      },
      "outputs": [
        {
          "output_type": "stream",
          "name": "stdout",
          "text": [
            "0    6843\n",
            "1    6843\n",
            "Name: C_ <=50K, dtype: int64\n"
          ]
        }
      ],
      "source": [
        "df_true = atipicos[atipicos['C_ <=50K'] == 1]\n",
        "df_false = atipicos[atipicos['C_ <=50K'] == 0]\n",
        "data_muestreo_atipicos = pd.concat([df_false, df_true.sample(df_false.shape[0])])\n",
        "print(data_muestreo_atipicos['C_ <=50K'].value_counts())"
      ]
    },
    {
      "cell_type": "markdown",
      "metadata": {
        "id": "MSqlpWFI5RfA"
      },
      "source": [
        "# **ETAPA DE ESQUEMAS DE VALIDACIÓN / ENTRENAMIENTO / MÉTRICA DE EVALUACIÓN**"
      ]
    },
    {
      "cell_type": "markdown",
      "metadata": {
        "id": "IyEvjH2K5t6n"
      },
      "source": [
        "**1) K - Flod Validation / Regresión Logística / F1-score**\n",
        "\n",
        "> Bloc con sangría\n",
        "\n"
      ]
    },
    {
      "cell_type": "code",
      "execution_count": 21,
      "metadata": {
        "id": "1Xy7ikb--tp6"
      },
      "outputs": [],
      "source": [
        "# Se dividen los datos en los conjuntos de entrenamiento y prueba según K-Fold Validation\n",
        "from sklearn.datasets import make_classification\n",
        "from sklearn.model_selection import KFold\n",
        "from sklearn.model_selection import cross_val_score\n",
        "from sklearn.linear_model import LogisticRegression\n",
        "from sklearn.discriminant_analysis import LinearDiscriminantAnalysis as LDA\n",
        "from sklearn.neighbors import KNeighborsClassifier as KNN\n",
        "from sklearn.metrics import confusion_matrix\n",
        "\n",
        "\n",
        "\n",
        "'''\n",
        "# Visualizacion de los datos de entrenamiento\n",
        "from matplotlib.colors import ListedColormap\n",
        "X_set, y_set = X_train, y_train\n",
        "X1, X2 = np.meshgrid(np.arange(start = X_set[:, 0].min() - 1, stop = X_set[:, 0].max() + 1, step = 0.01),\n",
        "                     np.arange(start = X_set[:, 1].min() - 1, stop = X_set[:, 1].max() + 1, step = 0.01))\n",
        "plt.contourf(X1, X2, classifier.predict(np.array([X1.ravel(), X2.ravel()]).T).reshape(X1.shape),\n",
        "             alpha = 0.75, cmap = ListedColormap(('red', 'green', 'blue')))\n",
        "plt.xlim(X1.min(), X1.max())\n",
        "plt.ylim(X2.min(), X2.max())\n",
        "for i, j in enumerate(np.unique(y_set)):\n",
        "    plt.scatter(X_set[y_set == j, 0], X_set[y_set == j, 1],\n",
        "                c = ListedColormap(('red', 'green', 'blue'))(i), label = j)\n",
        "plt.title('Regresion Logistica (Conjunto de Entrenamiento)')\n",
        "plt.xlabel('LD1')\n",
        "plt.ylabel('LD2')\n",
        "plt.legend()\n",
        "plt.show()\n",
        "'''\n",
        "\n",
        "def entrenamiento (base):\n",
        "  x = base.drop(['C_ <=50K','C_ >50K'], axis=1)\n",
        "  y = base['C_ <=50K']\n",
        "  # definimos K-flod Validaton\n",
        "  cv = KFold(n_splits=5, random_state=1, shuffle=True)\n",
        "\n",
        "  # Aplicamos la etapa de entrenamiento de los modelos a usar\n",
        "  neigh = KNN(n_neighbors=5)\n",
        "  models = [LogisticRegression(),LDA(),neigh]\n",
        "\n",
        "  # Definimos función de evaluar\n",
        "  def evaluar (cv,model,x,y,score):\n",
        "    scores = cross_val_score(model, x, y, scoring=score, cv=cv, n_jobs=-1)\n",
        "    return (scores)\n",
        "\n",
        "  # Se reporta el promedio de la métrica de evaluación\n",
        "  score =['f1','accuracy','recall']\n",
        "\n",
        "  for i in models:\n",
        "    for p in score:\n",
        "      result = evaluar(cv,i,x,y,p)\n",
        "      print('El',p,'en',i,'es: %.3f (%.3f)' % (np.mean(result), np.std(result)))\n"
      ]
    },
    {
      "cell_type": "markdown",
      "metadata": {
        "id": "hGLxpjgh7AJO"
      },
      "source": [
        "1.1 Base sin balancear"
      ]
    },
    {
      "cell_type": "code",
      "execution_count": 22,
      "metadata": {
        "colab": {
          "base_uri": "https://localhost:8080/"
        },
        "id": "ZOfiMUSR1ENj",
        "outputId": "4ce3ee1b-d127-4c76-cbbc-8a1cf4f4a0c6"
      },
      "outputs": [
        {
          "output_type": "stream",
          "name": "stdout",
          "text": [
            "El f1 en LogisticRegression() es: 0.902 (0.004)\n",
            "El accuracy en LogisticRegression() es: 0.848 (0.005)\n",
            "El recall en LogisticRegression() es: 0.928 (0.003)\n",
            "El f1 en LinearDiscriminantAnalysis() es: 0.895 (0.005)\n",
            "El accuracy en LinearDiscriminantAnalysis() es: 0.837 (0.007)\n",
            "El recall en LinearDiscriminantAnalysis() es: 0.926 (0.005)\n",
            "El f1 en KNeighborsClassifier() es: 0.888 (0.004)\n",
            "El accuracy en KNeighborsClassifier() es: 0.829 (0.005)\n",
            "El recall en KNeighborsClassifier() es: 0.902 (0.005)\n"
          ]
        }
      ],
      "source": [
        "entrenamiento(data)"
      ]
    },
    {
      "cell_type": "markdown",
      "metadata": {
        "id": "IkvC3QWL7Dh8"
      },
      "source": [
        "1.2 Base con sub-muestreo"
      ]
    },
    {
      "cell_type": "code",
      "execution_count": 23,
      "metadata": {
        "colab": {
          "base_uri": "https://localhost:8080/"
        },
        "id": "mSAXJUjd2IJc",
        "outputId": "799732e9-274b-4114-c289-cf34b4a0bc72"
      },
      "outputs": [
        {
          "output_type": "stream",
          "name": "stdout",
          "text": [
            "El f1 en LogisticRegression() es: 0.818 (0.007)\n",
            "El accuracy en LogisticRegression() es: 0.822 (0.008)\n",
            "El recall en LogisticRegression() es: 0.800 (0.012)\n",
            "El f1 en LinearDiscriminantAnalysis() es: 0.799 (0.005)\n",
            "El accuracy en LinearDiscriminantAnalysis() es: 0.808 (0.006)\n",
            "El recall en LinearDiscriminantAnalysis() es: 0.763 (0.012)\n",
            "El f1 en KNeighborsClassifier() es: 0.792 (0.005)\n",
            "El accuracy en KNeighborsClassifier() es: 0.798 (0.005)\n",
            "El recall en KNeighborsClassifier() es: 0.771 (0.006)\n"
          ]
        }
      ],
      "source": [
        "entrenamiento(data_muestreo)"
      ]
    },
    {
      "cell_type": "markdown",
      "metadata": {
        "id": "7KRJuCyeyW7-"
      },
      "source": [
        "1.3 Base quitando 1423 datos atípicos (Sin balancear)"
      ]
    },
    {
      "cell_type": "code",
      "execution_count": 24,
      "metadata": {
        "colab": {
          "base_uri": "https://localhost:8080/"
        },
        "id": "h68JPRoi0EVV",
        "outputId": "ab6d4dc0-b3ea-479d-8426-7bccafea8f4d"
      },
      "outputs": [
        {
          "output_type": "stream",
          "name": "stdout",
          "text": [
            "El f1 en LogisticRegression() es: 0.903 (0.003)\n",
            "El accuracy en LogisticRegression() es: 0.848 (0.004)\n",
            "El recall en LogisticRegression() es: 0.931 (0.004)\n",
            "El f1 en LinearDiscriminantAnalysis() es: 0.897 (0.004)\n",
            "El accuracy en LinearDiscriminantAnalysis() es: 0.838 (0.006)\n",
            "El recall en LinearDiscriminantAnalysis() es: 0.926 (0.006)\n",
            "El f1 en KNeighborsClassifier() es: 0.891 (0.004)\n",
            "El accuracy en KNeighborsClassifier() es: 0.831 (0.005)\n",
            "El recall en KNeighborsClassifier() es: 0.903 (0.003)\n"
          ]
        }
      ],
      "source": [
        "entrenamiento(atipicos)"
      ]
    },
    {
      "cell_type": "markdown",
      "metadata": {
        "id": "Q6P6suIJyjEG"
      },
      "source": [
        " 1.4 Base quitando 1423 datos atípicos (sub_muestreo)"
      ]
    },
    {
      "cell_type": "code",
      "execution_count": 25,
      "metadata": {
        "colab": {
          "base_uri": "https://localhost:8080/"
        },
        "id": "wU9wO9Zn0FH1",
        "outputId": "e0e53ce4-4a9e-40eb-845e-46956fd80168"
      },
      "outputs": [
        {
          "output_type": "stream",
          "name": "stdout",
          "text": [
            "El f1 en LogisticRegression() es: 0.807 (0.010)\n",
            "El accuracy en LogisticRegression() es: 0.812 (0.008)\n",
            "El recall en LogisticRegression() es: 0.785 (0.014)\n",
            "El f1 en LinearDiscriminantAnalysis() es: 0.789 (0.008)\n",
            "El accuracy en LinearDiscriminantAnalysis() es: 0.801 (0.005)\n",
            "El recall en LinearDiscriminantAnalysis() es: 0.748 (0.009)\n",
            "El f1 en KNeighborsClassifier() es: 0.786 (0.007)\n",
            "El accuracy en KNeighborsClassifier() es: 0.794 (0.005)\n",
            "El recall en KNeighborsClassifier() es: 0.757 (0.008)\n"
          ]
        }
      ],
      "source": [
        "entrenamiento(data_muestreo_atipicos)"
      ]
    }
  ],
  "metadata": {
    "colab": {
      "provenance": []
    },
    "kernelspec": {
      "display_name": "Python 3",
      "name": "python3"
    },
    "language_info": {
      "name": "python"
    }
  },
  "nbformat": 4,
  "nbformat_minor": 0
}